{
 "cells": [
  {
   "cell_type": "markdown",
   "metadata": {},
   "source": [
    "# 1.Business Understanding\n",
    "\n",
    "1. Which neighborhood has most number of listings present?\n",
    "2. Which neighborhood has highest host response rate and acceptance rate?\n",
    "3. How are superhosts performing than other hosts in response?\n",
    "4. Do we see any difference between superhosts and hosts acceptance rate at neighborhood with highest and lowest acceptance rate?\n",
    "5. How does the price range in lowest and highest number of listings neighborhoods?\n",
    "6. Which neighborhood has the top positive review?"
   ]
  },
  {
   "cell_type": "code",
   "execution_count": 1,
   "metadata": {},
   "outputs": [],
   "source": [
    "import pandas as pd\n",
    "import numpy as np\n",
    "import matplotlib.pyplot as plt\n",
    "import re\n",
    "import nltk\n",
    "from textblob import TextBlob\n",
    "import langid\n",
    "pd.set_option('display.max_columns', None)\n",
    "pd.set_option('display.max_rows', None)"
   ]
  },
  {
   "cell_type": "markdown",
   "metadata": {},
   "source": [
    "# Gather"
   ]
  },
  {
   "cell_type": "markdown",
   "metadata": {},
   "source": [
    "We require Listings and Reviews data to perform analysis on current business questions"
   ]
  },
  {
   "cell_type": "code",
   "execution_count": 5,
   "metadata": {},
   "outputs": [],
   "source": [
    "#reading csv files\n",
    "listings_df = pd.read_csv('listings.csv')\n",
    "reviews_df  = pd.read_csv('reviews.csv')"
   ]
  },
  {
   "cell_type": "markdown",
   "metadata": {},
   "source": [
    "# Assess"
   ]
  },
  {
   "cell_type": "code",
   "execution_count": 2,
   "metadata": {},
   "outputs": [],
   "source": [
    "def missing_value_stats(data):\n",
    "    '''\n",
    "    Gives missing value percentage,number of empty columns and number of empty rows\n",
    "    Args: \n",
    "        data - pd.DataFrame\n",
    "    Return\n",
    "        Missing_value_percent\n",
    "        total_empty_columns\n",
    "        total_empty_rows\n",
    "    '''\n",
    "    missing_value_percent = {column:data[column].isnull().mean()*100 for column in data.columns}\n",
    "    total_empty_columns = data.isnull().all().sum()\n",
    "    total_empty_rows = data.isnull().all(axis=1).sum()\n",
    "    columns_with_missing_values = [key for key,value in missing_value_percent.items() if value>=0.0]\n",
    "    \n",
    "    return missing_value_percent,total_empty_rows,total_empty_columns,columns_with_missing_values"
   ]
  },
  {
   "cell_type": "code",
   "execution_count": 3,
   "metadata": {},
   "outputs": [],
   "source": [
    "def columns_based_on_dtype(data):\n",
    "    '''\n",
    "    Seperates columns based on their data type\n",
    "    Args:\n",
    "        data-pd.DataFrame\n",
    "    Return:\n",
    "        dtype_counts,object_cols,int_cols,float_cols\n",
    "    '''\n",
    "    dtype_counts = data.dtypes.value_counts()\n",
    "    object_cols = [column for column in data.columns if data[column].dtypes=='object']\n",
    "    int_cols = [column for column in data.columns if data[column].dtypes=='int64']\n",
    "    float_cols = [column for column in data.columns if data[column].dtypes=='float64']\n",
    "    \n",
    "    return dtype_counts,object_cols,int_cols,float_cols"
   ]
  },
  {
   "cell_type": "code",
   "execution_count": 4,
   "metadata": {},
   "outputs": [],
   "source": [
    "def unique_values(data,columns):\n",
    "    '''\n",
    "    Gives unique values of all columns in dictionary format\n",
    "    Args:\n",
    "        data - pd.DataFrame\n",
    "        columns - list\n",
    "    Return:\n",
    "        unique_values\n",
    "    '''\n",
    "    unique_values = {}\n",
    "    \n",
    "    for col in data.columns:\n",
    "        unique_values[col] = list(data[col].unique())\n",
    "        \n",
    "    return unique_values"
   ]
  },
  {
   "cell_type": "markdown",
   "metadata": {},
   "source": [
    "# Understanding Listings data"
   ]
  },
  {
   "cell_type": "code",
   "execution_count": 6,
   "metadata": {},
   "outputs": [
    {
     "data": {
      "text/html": [
       "<div>\n",
       "<style scoped>\n",
       "    .dataframe tbody tr th:only-of-type {\n",
       "        vertical-align: middle;\n",
       "    }\n",
       "\n",
       "    .dataframe tbody tr th {\n",
       "        vertical-align: top;\n",
       "    }\n",
       "\n",
       "    .dataframe thead th {\n",
       "        text-align: right;\n",
       "    }\n",
       "</style>\n",
       "<table border=\"1\" class=\"dataframe\">\n",
       "  <thead>\n",
       "    <tr style=\"text-align: right;\">\n",
       "      <th></th>\n",
       "      <th>id</th>\n",
       "      <th>listing_url</th>\n",
       "      <th>scrape_id</th>\n",
       "      <th>last_scraped</th>\n",
       "      <th>source</th>\n",
       "      <th>name</th>\n",
       "      <th>description</th>\n",
       "      <th>neighborhood_overview</th>\n",
       "      <th>picture_url</th>\n",
       "      <th>host_id</th>\n",
       "      <th>host_url</th>\n",
       "      <th>host_name</th>\n",
       "      <th>host_since</th>\n",
       "      <th>host_location</th>\n",
       "      <th>host_about</th>\n",
       "      <th>host_response_time</th>\n",
       "      <th>host_response_rate</th>\n",
       "      <th>host_acceptance_rate</th>\n",
       "      <th>host_is_superhost</th>\n",
       "      <th>host_thumbnail_url</th>\n",
       "      <th>host_picture_url</th>\n",
       "      <th>host_neighbourhood</th>\n",
       "      <th>host_listings_count</th>\n",
       "      <th>host_total_listings_count</th>\n",
       "      <th>host_verifications</th>\n",
       "      <th>host_has_profile_pic</th>\n",
       "      <th>host_identity_verified</th>\n",
       "      <th>neighbourhood</th>\n",
       "      <th>neighbourhood_cleansed</th>\n",
       "      <th>neighbourhood_group_cleansed</th>\n",
       "      <th>latitude</th>\n",
       "      <th>longitude</th>\n",
       "      <th>property_type</th>\n",
       "      <th>room_type</th>\n",
       "      <th>accommodates</th>\n",
       "      <th>bathrooms</th>\n",
       "      <th>bathrooms_text</th>\n",
       "      <th>bedrooms</th>\n",
       "      <th>beds</th>\n",
       "      <th>amenities</th>\n",
       "      <th>price</th>\n",
       "      <th>minimum_nights</th>\n",
       "      <th>maximum_nights</th>\n",
       "      <th>minimum_minimum_nights</th>\n",
       "      <th>maximum_minimum_nights</th>\n",
       "      <th>minimum_maximum_nights</th>\n",
       "      <th>maximum_maximum_nights</th>\n",
       "      <th>minimum_nights_avg_ntm</th>\n",
       "      <th>maximum_nights_avg_ntm</th>\n",
       "      <th>calendar_updated</th>\n",
       "      <th>has_availability</th>\n",
       "      <th>availability_30</th>\n",
       "      <th>availability_60</th>\n",
       "      <th>availability_90</th>\n",
       "      <th>availability_365</th>\n",
       "      <th>calendar_last_scraped</th>\n",
       "      <th>number_of_reviews</th>\n",
       "      <th>number_of_reviews_ltm</th>\n",
       "      <th>number_of_reviews_l30d</th>\n",
       "      <th>first_review</th>\n",
       "      <th>last_review</th>\n",
       "      <th>review_scores_rating</th>\n",
       "      <th>review_scores_accuracy</th>\n",
       "      <th>review_scores_cleanliness</th>\n",
       "      <th>review_scores_checkin</th>\n",
       "      <th>review_scores_communication</th>\n",
       "      <th>review_scores_location</th>\n",
       "      <th>review_scores_value</th>\n",
       "      <th>license</th>\n",
       "      <th>instant_bookable</th>\n",
       "      <th>calculated_host_listings_count</th>\n",
       "      <th>calculated_host_listings_count_entire_homes</th>\n",
       "      <th>calculated_host_listings_count_private_rooms</th>\n",
       "      <th>calculated_host_listings_count_shared_rooms</th>\n",
       "      <th>reviews_per_month</th>\n",
       "    </tr>\n",
       "  </thead>\n",
       "  <tbody>\n",
       "    <tr>\n",
       "      <th>0</th>\n",
       "      <td>144978</td>\n",
       "      <td>https://www.airbnb.com/rooms/144978</td>\n",
       "      <td>20221204162417</td>\n",
       "      <td>2022-12-04</td>\n",
       "      <td>city scrape</td>\n",
       "      <td>Prime Location - Small Basic Room</td>\n",
       "      <td>&lt;b&gt;The space&lt;/b&gt;&lt;br /&gt;This is a small room in ...</td>\n",
       "      <td>NaN</td>\n",
       "      <td>https://a0.muscache.com/pictures/915742/ada9fb...</td>\n",
       "      <td>216682</td>\n",
       "      <td>https://www.airbnb.com/users/show/216682</td>\n",
       "      <td>Jay</td>\n",
       "      <td>2010-08-29</td>\n",
       "      <td>San Francisco, CA</td>\n",
       "      <td>Originally from  New York, I work in healthcar...</td>\n",
       "      <td>within a few hours</td>\n",
       "      <td>100%</td>\n",
       "      <td>89%</td>\n",
       "      <td>f</td>\n",
       "      <td>https://a0.muscache.com/im/users/216682/profil...</td>\n",
       "      <td>https://a0.muscache.com/im/users/216682/profil...</td>\n",
       "      <td>Pacific Heights</td>\n",
       "      <td>9</td>\n",
       "      <td>9</td>\n",
       "      <td>['email', 'phone']</td>\n",
       "      <td>t</td>\n",
       "      <td>t</td>\n",
       "      <td>NaN</td>\n",
       "      <td>Pacific Heights</td>\n",
       "      <td>NaN</td>\n",
       "      <td>37.79233</td>\n",
       "      <td>-122.42431</td>\n",
       "      <td>Private room in rental unit</td>\n",
       "      <td>Private room</td>\n",
       "      <td>1</td>\n",
       "      <td>NaN</td>\n",
       "      <td>NaN</td>\n",
       "      <td>1.0</td>\n",
       "      <td>1.0</td>\n",
       "      <td>[\"Lock on bedroom door\", \"Essentials\", \"Dryer\"...</td>\n",
       "      <td>$55.00</td>\n",
       "      <td>30</td>\n",
       "      <td>365</td>\n",
       "      <td>30.0</td>\n",
       "      <td>30.0</td>\n",
       "      <td>365.0</td>\n",
       "      <td>365.0</td>\n",
       "      <td>30.0</td>\n",
       "      <td>365.0</td>\n",
       "      <td>NaN</td>\n",
       "      <td>t</td>\n",
       "      <td>7</td>\n",
       "      <td>24</td>\n",
       "      <td>54</td>\n",
       "      <td>54</td>\n",
       "      <td>2022-12-04</td>\n",
       "      <td>120</td>\n",
       "      <td>0</td>\n",
       "      <td>0</td>\n",
       "      <td>2011-07-10</td>\n",
       "      <td>2020-03-31</td>\n",
       "      <td>4.68</td>\n",
       "      <td>4.78</td>\n",
       "      <td>4.45</td>\n",
       "      <td>4.86</td>\n",
       "      <td>4.81</td>\n",
       "      <td>4.81</td>\n",
       "      <td>4.66</td>\n",
       "      <td>NaN</td>\n",
       "      <td>f</td>\n",
       "      <td>9</td>\n",
       "      <td>4</td>\n",
       "      <td>5</td>\n",
       "      <td>0</td>\n",
       "      <td>0.86</td>\n",
       "    </tr>\n",
       "    <tr>\n",
       "      <th>1</th>\n",
       "      <td>958</td>\n",
       "      <td>https://www.airbnb.com/rooms/958</td>\n",
       "      <td>20221204162417</td>\n",
       "      <td>2022-12-04</td>\n",
       "      <td>city scrape</td>\n",
       "      <td>Bright, Modern Garden Unit - 1BR/1BTH</td>\n",
       "      <td>Please check local laws re Covid before you re...</td>\n",
       "      <td>Quiet cul de sac in friendly neighborhood&lt;br /...</td>\n",
       "      <td>https://a0.muscache.com/pictures/b7c2a199-4c17...</td>\n",
       "      <td>1169</td>\n",
       "      <td>https://www.airbnb.com/users/show/1169</td>\n",
       "      <td>Holly</td>\n",
       "      <td>2008-07-31</td>\n",
       "      <td>San Francisco, CA</td>\n",
       "      <td>We are a family of four that live upstairs.  W...</td>\n",
       "      <td>within an hour</td>\n",
       "      <td>100%</td>\n",
       "      <td>98%</td>\n",
       "      <td>t</td>\n",
       "      <td>https://a0.muscache.com/im/pictures/user/efdad...</td>\n",
       "      <td>https://a0.muscache.com/im/pictures/user/efdad...</td>\n",
       "      <td>Duboce Triangle</td>\n",
       "      <td>1</td>\n",
       "      <td>1</td>\n",
       "      <td>['email', 'phone']</td>\n",
       "      <td>t</td>\n",
       "      <td>t</td>\n",
       "      <td>San Francisco, California, United States</td>\n",
       "      <td>Western Addition</td>\n",
       "      <td>NaN</td>\n",
       "      <td>37.77028</td>\n",
       "      <td>-122.43317</td>\n",
       "      <td>Entire serviced apartment</td>\n",
       "      <td>Entire home/apt</td>\n",
       "      <td>3</td>\n",
       "      <td>NaN</td>\n",
       "      <td>1 bath</td>\n",
       "      <td>1.0</td>\n",
       "      <td>2.0</td>\n",
       "      <td>[\"Essentials\", \"Kitchen\", \"Toaster\", \"Free was...</td>\n",
       "      <td>$194.00</td>\n",
       "      <td>2</td>\n",
       "      <td>30</td>\n",
       "      <td>1.0</td>\n",
       "      <td>2.0</td>\n",
       "      <td>1125.0</td>\n",
       "      <td>1125.0</td>\n",
       "      <td>2.0</td>\n",
       "      <td>1125.0</td>\n",
       "      <td>NaN</td>\n",
       "      <td>t</td>\n",
       "      <td>1</td>\n",
       "      <td>15</td>\n",
       "      <td>35</td>\n",
       "      <td>161</td>\n",
       "      <td>2022-12-04</td>\n",
       "      <td>371</td>\n",
       "      <td>57</td>\n",
       "      <td>2</td>\n",
       "      <td>2009-07-23</td>\n",
       "      <td>2022-11-18</td>\n",
       "      <td>4.86</td>\n",
       "      <td>4.93</td>\n",
       "      <td>4.92</td>\n",
       "      <td>4.95</td>\n",
       "      <td>4.88</td>\n",
       "      <td>4.98</td>\n",
       "      <td>4.76</td>\n",
       "      <td>City Registration Pending</td>\n",
       "      <td>f</td>\n",
       "      <td>1</td>\n",
       "      <td>1</td>\n",
       "      <td>0</td>\n",
       "      <td>0</td>\n",
       "      <td>2.28</td>\n",
       "    </tr>\n",
       "    <tr>\n",
       "      <th>2</th>\n",
       "      <td>5858</td>\n",
       "      <td>https://www.airbnb.com/rooms/5858</td>\n",
       "      <td>20221204162417</td>\n",
       "      <td>2022-12-04</td>\n",
       "      <td>city scrape</td>\n",
       "      <td>Creative Sanctuary</td>\n",
       "      <td>We live in a large Victorian house on a quiet ...</td>\n",
       "      <td>I love how our neighborhood feels quiet but is...</td>\n",
       "      <td>https://a0.muscache.com/pictures/17714/3a7aea1...</td>\n",
       "      <td>8904</td>\n",
       "      <td>https://www.airbnb.com/users/show/8904</td>\n",
       "      <td>Philip And Tania</td>\n",
       "      <td>2009-03-02</td>\n",
       "      <td>San Francisco, CA</td>\n",
       "      <td>Philip: English transplant to the Bay Area and...</td>\n",
       "      <td>within a few hours</td>\n",
       "      <td>80%</td>\n",
       "      <td>71%</td>\n",
       "      <td>f</td>\n",
       "      <td>https://a0.muscache.com/im/users/8904/profile_...</td>\n",
       "      <td>https://a0.muscache.com/im/users/8904/profile_...</td>\n",
       "      <td>Bernal Heights</td>\n",
       "      <td>2</td>\n",
       "      <td>2</td>\n",
       "      <td>['email', 'phone', 'work_email']</td>\n",
       "      <td>t</td>\n",
       "      <td>t</td>\n",
       "      <td>San Francisco, California, United States</td>\n",
       "      <td>Bernal Heights</td>\n",
       "      <td>NaN</td>\n",
       "      <td>37.74474</td>\n",
       "      <td>-122.42089</td>\n",
       "      <td>Entire rental unit</td>\n",
       "      <td>Entire home/apt</td>\n",
       "      <td>4</td>\n",
       "      <td>NaN</td>\n",
       "      <td>1 bath</td>\n",
       "      <td>2.0</td>\n",
       "      <td>2.0</td>\n",
       "      <td>[\"Essentials\", \"Dryer\", \"Hair dryer\", \"Smoke a...</td>\n",
       "      <td>$235.00</td>\n",
       "      <td>30</td>\n",
       "      <td>60</td>\n",
       "      <td>30.0</td>\n",
       "      <td>30.0</td>\n",
       "      <td>60.0</td>\n",
       "      <td>60.0</td>\n",
       "      <td>30.0</td>\n",
       "      <td>60.0</td>\n",
       "      <td>NaN</td>\n",
       "      <td>t</td>\n",
       "      <td>30</td>\n",
       "      <td>60</td>\n",
       "      <td>90</td>\n",
       "      <td>365</td>\n",
       "      <td>2022-12-04</td>\n",
       "      <td>111</td>\n",
       "      <td>0</td>\n",
       "      <td>0</td>\n",
       "      <td>2009-05-03</td>\n",
       "      <td>2017-08-06</td>\n",
       "      <td>4.88</td>\n",
       "      <td>4.85</td>\n",
       "      <td>4.87</td>\n",
       "      <td>4.89</td>\n",
       "      <td>4.85</td>\n",
       "      <td>4.77</td>\n",
       "      <td>4.68</td>\n",
       "      <td>NaN</td>\n",
       "      <td>f</td>\n",
       "      <td>1</td>\n",
       "      <td>1</td>\n",
       "      <td>0</td>\n",
       "      <td>0</td>\n",
       "      <td>0.67</td>\n",
       "    </tr>\n",
       "    <tr>\n",
       "      <th>3</th>\n",
       "      <td>8142</td>\n",
       "      <td>https://www.airbnb.com/rooms/8142</td>\n",
       "      <td>20221204162417</td>\n",
       "      <td>2022-12-04</td>\n",
       "      <td>city scrape</td>\n",
       "      <td>Friendly Room Apt. Style -UCSF/USF - San Franc...</td>\n",
       "      <td>Nice and good public transportation.  7 minute...</td>\n",
       "      <td>N Juda Muni, Bus and UCSF Shuttle.&lt;br /&gt;&lt;br /&gt;...</td>\n",
       "      <td>https://a0.muscache.com/pictures/12d8bff0-1698...</td>\n",
       "      <td>21994</td>\n",
       "      <td>https://www.airbnb.com/users/show/21994</td>\n",
       "      <td>Aaron</td>\n",
       "      <td>2009-06-17</td>\n",
       "      <td>San Francisco, CA</td>\n",
       "      <td>7 minutes walk to UCSF hospital &amp; school campu...</td>\n",
       "      <td>within a few hours</td>\n",
       "      <td>100%</td>\n",
       "      <td>74%</td>\n",
       "      <td>f</td>\n",
       "      <td>https://a0.muscache.com/im/users/21994/profile...</td>\n",
       "      <td>https://a0.muscache.com/im/users/21994/profile...</td>\n",
       "      <td>Cole Valley</td>\n",
       "      <td>12</td>\n",
       "      <td>13</td>\n",
       "      <td>['email', 'phone']</td>\n",
       "      <td>t</td>\n",
       "      <td>t</td>\n",
       "      <td>San Francisco, California, United States</td>\n",
       "      <td>Haight Ashbury</td>\n",
       "      <td>NaN</td>\n",
       "      <td>37.76555</td>\n",
       "      <td>-122.45213</td>\n",
       "      <td>Private room in rental unit</td>\n",
       "      <td>Private room</td>\n",
       "      <td>1</td>\n",
       "      <td>NaN</td>\n",
       "      <td>4 shared baths</td>\n",
       "      <td>1.0</td>\n",
       "      <td>1.0</td>\n",
       "      <td>[\"Lock on bedroom door\", \"Kitchen\", \"Free stre...</td>\n",
       "      <td>$56.00</td>\n",
       "      <td>32</td>\n",
       "      <td>90</td>\n",
       "      <td>32.0</td>\n",
       "      <td>32.0</td>\n",
       "      <td>90.0</td>\n",
       "      <td>90.0</td>\n",
       "      <td>32.0</td>\n",
       "      <td>90.0</td>\n",
       "      <td>NaN</td>\n",
       "      <td>t</td>\n",
       "      <td>30</td>\n",
       "      <td>60</td>\n",
       "      <td>90</td>\n",
       "      <td>365</td>\n",
       "      <td>2022-12-04</td>\n",
       "      <td>9</td>\n",
       "      <td>1</td>\n",
       "      <td>0</td>\n",
       "      <td>2014-09-08</td>\n",
       "      <td>2022-10-27</td>\n",
       "      <td>4.67</td>\n",
       "      <td>4.44</td>\n",
       "      <td>4.44</td>\n",
       "      <td>4.78</td>\n",
       "      <td>4.78</td>\n",
       "      <td>4.67</td>\n",
       "      <td>4.67</td>\n",
       "      <td>NaN</td>\n",
       "      <td>f</td>\n",
       "      <td>12</td>\n",
       "      <td>0</td>\n",
       "      <td>12</td>\n",
       "      <td>0</td>\n",
       "      <td>0.09</td>\n",
       "    </tr>\n",
       "    <tr>\n",
       "      <th>4</th>\n",
       "      <td>8339</td>\n",
       "      <td>https://www.airbnb.com/rooms/8339</td>\n",
       "      <td>20221204162417</td>\n",
       "      <td>2022-12-04</td>\n",
       "      <td>city scrape</td>\n",
       "      <td>Historic Alamo Square Victorian</td>\n",
       "      <td>Pls email before booking. &lt;br /&gt;Interior featu...</td>\n",
       "      <td>NaN</td>\n",
       "      <td>https://a0.muscache.com/pictures/miso/Hosting-...</td>\n",
       "      <td>24215</td>\n",
       "      <td>https://www.airbnb.com/users/show/24215</td>\n",
       "      <td>Rosy</td>\n",
       "      <td>2009-07-02</td>\n",
       "      <td>San Francisco, CA</td>\n",
       "      <td>I'm an Interior Stylist living in SF. \\r\\r\\n\\r...</td>\n",
       "      <td>within a few hours</td>\n",
       "      <td>100%</td>\n",
       "      <td>0%</td>\n",
       "      <td>f</td>\n",
       "      <td>https://a0.muscache.com/im/pictures/user/6e05b...</td>\n",
       "      <td>https://a0.muscache.com/im/pictures/user/6e05b...</td>\n",
       "      <td>Alamo Square</td>\n",
       "      <td>2</td>\n",
       "      <td>6</td>\n",
       "      <td>['email', 'phone']</td>\n",
       "      <td>t</td>\n",
       "      <td>t</td>\n",
       "      <td>NaN</td>\n",
       "      <td>Western Addition</td>\n",
       "      <td>NaN</td>\n",
       "      <td>37.77564</td>\n",
       "      <td>-122.43642</td>\n",
       "      <td>Entire condo</td>\n",
       "      <td>Entire home/apt</td>\n",
       "      <td>4</td>\n",
       "      <td>NaN</td>\n",
       "      <td>1.5 baths</td>\n",
       "      <td>2.0</td>\n",
       "      <td>2.0</td>\n",
       "      <td>[\"Essentials\", \"Kitchen\", \"Toaster\", \"Free str...</td>\n",
       "      <td>$575.00</td>\n",
       "      <td>9</td>\n",
       "      <td>91</td>\n",
       "      <td>9.0</td>\n",
       "      <td>9.0</td>\n",
       "      <td>91.0</td>\n",
       "      <td>91.0</td>\n",
       "      <td>9.0</td>\n",
       "      <td>91.0</td>\n",
       "      <td>NaN</td>\n",
       "      <td>t</td>\n",
       "      <td>29</td>\n",
       "      <td>59</td>\n",
       "      <td>89</td>\n",
       "      <td>364</td>\n",
       "      <td>2022-12-04</td>\n",
       "      <td>28</td>\n",
       "      <td>0</td>\n",
       "      <td>0</td>\n",
       "      <td>2009-09-25</td>\n",
       "      <td>2019-06-28</td>\n",
       "      <td>4.87</td>\n",
       "      <td>4.88</td>\n",
       "      <td>5.00</td>\n",
       "      <td>4.94</td>\n",
       "      <td>5.00</td>\n",
       "      <td>4.94</td>\n",
       "      <td>4.75</td>\n",
       "      <td>STR-0000264</td>\n",
       "      <td>f</td>\n",
       "      <td>2</td>\n",
       "      <td>2</td>\n",
       "      <td>0</td>\n",
       "      <td>0</td>\n",
       "      <td>0.17</td>\n",
       "    </tr>\n",
       "  </tbody>\n",
       "</table>\n",
       "</div>"
      ],
      "text/plain": [
       "       id                          listing_url       scrape_id last_scraped  \\\n",
       "0  144978  https://www.airbnb.com/rooms/144978  20221204162417   2022-12-04   \n",
       "1     958     https://www.airbnb.com/rooms/958  20221204162417   2022-12-04   \n",
       "2    5858    https://www.airbnb.com/rooms/5858  20221204162417   2022-12-04   \n",
       "3    8142    https://www.airbnb.com/rooms/8142  20221204162417   2022-12-04   \n",
       "4    8339    https://www.airbnb.com/rooms/8339  20221204162417   2022-12-04   \n",
       "\n",
       "        source                                               name  \\\n",
       "0  city scrape                  Prime Location - Small Basic Room   \n",
       "1  city scrape              Bright, Modern Garden Unit - 1BR/1BTH   \n",
       "2  city scrape                                 Creative Sanctuary   \n",
       "3  city scrape  Friendly Room Apt. Style -UCSF/USF - San Franc...   \n",
       "4  city scrape                    Historic Alamo Square Victorian   \n",
       "\n",
       "                                         description  \\\n",
       "0  <b>The space</b><br />This is a small room in ...   \n",
       "1  Please check local laws re Covid before you re...   \n",
       "2  We live in a large Victorian house on a quiet ...   \n",
       "3  Nice and good public transportation.  7 minute...   \n",
       "4  Pls email before booking. <br />Interior featu...   \n",
       "\n",
       "                               neighborhood_overview  \\\n",
       "0                                                NaN   \n",
       "1  Quiet cul de sac in friendly neighborhood<br /...   \n",
       "2  I love how our neighborhood feels quiet but is...   \n",
       "3  N Juda Muni, Bus and UCSF Shuttle.<br /><br />...   \n",
       "4                                                NaN   \n",
       "\n",
       "                                         picture_url  host_id  \\\n",
       "0  https://a0.muscache.com/pictures/915742/ada9fb...   216682   \n",
       "1  https://a0.muscache.com/pictures/b7c2a199-4c17...     1169   \n",
       "2  https://a0.muscache.com/pictures/17714/3a7aea1...     8904   \n",
       "3  https://a0.muscache.com/pictures/12d8bff0-1698...    21994   \n",
       "4  https://a0.muscache.com/pictures/miso/Hosting-...    24215   \n",
       "\n",
       "                                   host_url         host_name  host_since  \\\n",
       "0  https://www.airbnb.com/users/show/216682               Jay  2010-08-29   \n",
       "1    https://www.airbnb.com/users/show/1169             Holly  2008-07-31   \n",
       "2    https://www.airbnb.com/users/show/8904  Philip And Tania  2009-03-02   \n",
       "3   https://www.airbnb.com/users/show/21994             Aaron  2009-06-17   \n",
       "4   https://www.airbnb.com/users/show/24215              Rosy  2009-07-02   \n",
       "\n",
       "       host_location                                         host_about  \\\n",
       "0  San Francisco, CA  Originally from  New York, I work in healthcar...   \n",
       "1  San Francisco, CA  We are a family of four that live upstairs.  W...   \n",
       "2  San Francisco, CA  Philip: English transplant to the Bay Area and...   \n",
       "3  San Francisco, CA  7 minutes walk to UCSF hospital & school campu...   \n",
       "4  San Francisco, CA  I'm an Interior Stylist living in SF. \\r\\r\\n\\r...   \n",
       "\n",
       "   host_response_time host_response_rate host_acceptance_rate  \\\n",
       "0  within a few hours               100%                  89%   \n",
       "1      within an hour               100%                  98%   \n",
       "2  within a few hours                80%                  71%   \n",
       "3  within a few hours               100%                  74%   \n",
       "4  within a few hours               100%                   0%   \n",
       "\n",
       "  host_is_superhost                                 host_thumbnail_url  \\\n",
       "0                 f  https://a0.muscache.com/im/users/216682/profil...   \n",
       "1                 t  https://a0.muscache.com/im/pictures/user/efdad...   \n",
       "2                 f  https://a0.muscache.com/im/users/8904/profile_...   \n",
       "3                 f  https://a0.muscache.com/im/users/21994/profile...   \n",
       "4                 f  https://a0.muscache.com/im/pictures/user/6e05b...   \n",
       "\n",
       "                                    host_picture_url host_neighbourhood  \\\n",
       "0  https://a0.muscache.com/im/users/216682/profil...    Pacific Heights   \n",
       "1  https://a0.muscache.com/im/pictures/user/efdad...    Duboce Triangle   \n",
       "2  https://a0.muscache.com/im/users/8904/profile_...     Bernal Heights   \n",
       "3  https://a0.muscache.com/im/users/21994/profile...        Cole Valley   \n",
       "4  https://a0.muscache.com/im/pictures/user/6e05b...       Alamo Square   \n",
       "\n",
       "   host_listings_count  host_total_listings_count  \\\n",
       "0                    9                          9   \n",
       "1                    1                          1   \n",
       "2                    2                          2   \n",
       "3                   12                         13   \n",
       "4                    2                          6   \n",
       "\n",
       "                 host_verifications host_has_profile_pic  \\\n",
       "0                ['email', 'phone']                    t   \n",
       "1                ['email', 'phone']                    t   \n",
       "2  ['email', 'phone', 'work_email']                    t   \n",
       "3                ['email', 'phone']                    t   \n",
       "4                ['email', 'phone']                    t   \n",
       "\n",
       "  host_identity_verified                             neighbourhood  \\\n",
       "0                      t                                       NaN   \n",
       "1                      t  San Francisco, California, United States   \n",
       "2                      t  San Francisco, California, United States   \n",
       "3                      t  San Francisco, California, United States   \n",
       "4                      t                                       NaN   \n",
       "\n",
       "  neighbourhood_cleansed  neighbourhood_group_cleansed  latitude  longitude  \\\n",
       "0        Pacific Heights                           NaN  37.79233 -122.42431   \n",
       "1       Western Addition                           NaN  37.77028 -122.43317   \n",
       "2         Bernal Heights                           NaN  37.74474 -122.42089   \n",
       "3         Haight Ashbury                           NaN  37.76555 -122.45213   \n",
       "4       Western Addition                           NaN  37.77564 -122.43642   \n",
       "\n",
       "                 property_type        room_type  accommodates  bathrooms  \\\n",
       "0  Private room in rental unit     Private room             1        NaN   \n",
       "1    Entire serviced apartment  Entire home/apt             3        NaN   \n",
       "2           Entire rental unit  Entire home/apt             4        NaN   \n",
       "3  Private room in rental unit     Private room             1        NaN   \n",
       "4                 Entire condo  Entire home/apt             4        NaN   \n",
       "\n",
       "   bathrooms_text  bedrooms  beds  \\\n",
       "0             NaN       1.0   1.0   \n",
       "1          1 bath       1.0   2.0   \n",
       "2          1 bath       2.0   2.0   \n",
       "3  4 shared baths       1.0   1.0   \n",
       "4       1.5 baths       2.0   2.0   \n",
       "\n",
       "                                           amenities    price  minimum_nights  \\\n",
       "0  [\"Lock on bedroom door\", \"Essentials\", \"Dryer\"...   $55.00              30   \n",
       "1  [\"Essentials\", \"Kitchen\", \"Toaster\", \"Free was...  $194.00               2   \n",
       "2  [\"Essentials\", \"Dryer\", \"Hair dryer\", \"Smoke a...  $235.00              30   \n",
       "3  [\"Lock on bedroom door\", \"Kitchen\", \"Free stre...   $56.00              32   \n",
       "4  [\"Essentials\", \"Kitchen\", \"Toaster\", \"Free str...  $575.00               9   \n",
       "\n",
       "   maximum_nights  minimum_minimum_nights  maximum_minimum_nights  \\\n",
       "0             365                    30.0                    30.0   \n",
       "1              30                     1.0                     2.0   \n",
       "2              60                    30.0                    30.0   \n",
       "3              90                    32.0                    32.0   \n",
       "4              91                     9.0                     9.0   \n",
       "\n",
       "   minimum_maximum_nights  maximum_maximum_nights  minimum_nights_avg_ntm  \\\n",
       "0                   365.0                   365.0                    30.0   \n",
       "1                  1125.0                  1125.0                     2.0   \n",
       "2                    60.0                    60.0                    30.0   \n",
       "3                    90.0                    90.0                    32.0   \n",
       "4                    91.0                    91.0                     9.0   \n",
       "\n",
       "   maximum_nights_avg_ntm  calendar_updated has_availability  availability_30  \\\n",
       "0                   365.0               NaN                t                7   \n",
       "1                  1125.0               NaN                t                1   \n",
       "2                    60.0               NaN                t               30   \n",
       "3                    90.0               NaN                t               30   \n",
       "4                    91.0               NaN                t               29   \n",
       "\n",
       "   availability_60  availability_90  availability_365 calendar_last_scraped  \\\n",
       "0               24               54                54            2022-12-04   \n",
       "1               15               35               161            2022-12-04   \n",
       "2               60               90               365            2022-12-04   \n",
       "3               60               90               365            2022-12-04   \n",
       "4               59               89               364            2022-12-04   \n",
       "\n",
       "   number_of_reviews  number_of_reviews_ltm  number_of_reviews_l30d  \\\n",
       "0                120                      0                       0   \n",
       "1                371                     57                       2   \n",
       "2                111                      0                       0   \n",
       "3                  9                      1                       0   \n",
       "4                 28                      0                       0   \n",
       "\n",
       "  first_review last_review  review_scores_rating  review_scores_accuracy  \\\n",
       "0   2011-07-10  2020-03-31                  4.68                    4.78   \n",
       "1   2009-07-23  2022-11-18                  4.86                    4.93   \n",
       "2   2009-05-03  2017-08-06                  4.88                    4.85   \n",
       "3   2014-09-08  2022-10-27                  4.67                    4.44   \n",
       "4   2009-09-25  2019-06-28                  4.87                    4.88   \n",
       "\n",
       "   review_scores_cleanliness  review_scores_checkin  \\\n",
       "0                       4.45                   4.86   \n",
       "1                       4.92                   4.95   \n",
       "2                       4.87                   4.89   \n",
       "3                       4.44                   4.78   \n",
       "4                       5.00                   4.94   \n",
       "\n",
       "   review_scores_communication  review_scores_location  review_scores_value  \\\n",
       "0                         4.81                    4.81                 4.66   \n",
       "1                         4.88                    4.98                 4.76   \n",
       "2                         4.85                    4.77                 4.68   \n",
       "3                         4.78                    4.67                 4.67   \n",
       "4                         5.00                    4.94                 4.75   \n",
       "\n",
       "                     license instant_bookable  calculated_host_listings_count  \\\n",
       "0                        NaN                f                               9   \n",
       "1  City Registration Pending                f                               1   \n",
       "2                        NaN                f                               1   \n",
       "3                        NaN                f                              12   \n",
       "4                STR-0000264                f                               2   \n",
       "\n",
       "   calculated_host_listings_count_entire_homes  \\\n",
       "0                                            4   \n",
       "1                                            1   \n",
       "2                                            1   \n",
       "3                                            0   \n",
       "4                                            2   \n",
       "\n",
       "   calculated_host_listings_count_private_rooms  \\\n",
       "0                                             5   \n",
       "1                                             0   \n",
       "2                                             0   \n",
       "3                                            12   \n",
       "4                                             0   \n",
       "\n",
       "   calculated_host_listings_count_shared_rooms  reviews_per_month  \n",
       "0                                            0               0.86  \n",
       "1                                            0               2.28  \n",
       "2                                            0               0.67  \n",
       "3                                            0               0.09  \n",
       "4                                            0               0.17  "
      ]
     },
     "execution_count": 6,
     "metadata": {},
     "output_type": "execute_result"
    }
   ],
   "source": [
    "listings_df.head(5)"
   ]
  },
  {
   "cell_type": "code",
   "execution_count": 7,
   "metadata": {},
   "outputs": [],
   "source": [
    "not_required_listings_columns = ['listing_url','scrape_id','last_scraped','source','name','description','picture_url','host_url','host_name','host_about',\n",
    "                        'host_location','host_thumbnail_url','host_picture_url','host_verifications','host_has_profile_pic','host_identity_verified',\n",
    "                        'neighbourhood','neighbourhood_group_cleansed','latitude','longitude','accommodates','bathrooms','bathrooms_text','bedrooms',\n",
    "                        'beds','calendar_last_scraped','license','reviews_per_month','neighborhood_overview','minimum_nights','maximum_nights',\n",
    "                        'minimum_minimum_nights','maximum_minimum_nights','minimum_maximum_nights','maximum_maximum_nights','minimum_nights_avg_ntm',\n",
    "                        'maximum_nights_avg_ntm','calendar_updated','has_availability','availability_30','availability_60','availability_90','availability_365',\n",
    "                        'calendar_last_scraped','number_of_reviews','number_of_reviews_ltm','number_of_reviews_l30d','first_review','last_review',\n",
    "                        'license','instant_bookable','calculated_host_listings_count','calculated_host_listings_count_entire_homes','calculated_host_listings_count_private_rooms',\n",
    "                        'calculated_host_listings_count_shared_rooms']"
   ]
  },
  {
   "cell_type": "code",
   "execution_count": 8,
   "metadata": {},
   "outputs": [],
   "source": [
    "listings_df.drop(not_required_listings_columns,axis=1,inplace = True)"
   ]
  },
  {
   "cell_type": "markdown",
   "metadata": {},
   "source": [
    "I have dropped columns which I will not be considering for current analysis and prepared a new listings_df which have information related to hosts and reviews"
   ]
  },
  {
   "cell_type": "code",
   "execution_count": 9,
   "metadata": {
    "scrolled": true
   },
   "outputs": [
    {
     "data": {
      "text/plain": [
       "(6789, 22)"
      ]
     },
     "execution_count": 9,
     "metadata": {},
     "output_type": "execute_result"
    }
   ],
   "source": [
    "listings_df.shape"
   ]
  },
  {
   "cell_type": "markdown",
   "metadata": {},
   "source": [
    "We have gathered the columns which are required for our analysis"
   ]
  },
  {
   "cell_type": "code",
   "execution_count": 10,
   "metadata": {
    "scrolled": true
   },
   "outputs": [
    {
     "name": "stdout",
     "output_type": "stream",
     "text": [
      "<class 'pandas.core.frame.DataFrame'>\n",
      "RangeIndex: 6789 entries, 0 to 6788\n",
      "Data columns (total 22 columns):\n",
      " #   Column                       Non-Null Count  Dtype  \n",
      "---  ------                       --------------  -----  \n",
      " 0   id                           6789 non-null   int64  \n",
      " 1   host_id                      6789 non-null   int64  \n",
      " 2   host_since                   6789 non-null   object \n",
      " 3   host_response_time           5745 non-null   object \n",
      " 4   host_response_rate           5745 non-null   object \n",
      " 5   host_acceptance_rate         5990 non-null   object \n",
      " 6   host_is_superhost            6784 non-null   object \n",
      " 7   host_neighbourhood           6455 non-null   object \n",
      " 8   host_listings_count          6789 non-null   int64  \n",
      " 9   host_total_listings_count    6789 non-null   int64  \n",
      " 10  neighbourhood_cleansed       6789 non-null   object \n",
      " 11  property_type                6789 non-null   object \n",
      " 12  room_type                    6789 non-null   object \n",
      " 13  amenities                    6789 non-null   object \n",
      " 14  price                        6789 non-null   object \n",
      " 15  review_scores_rating         5562 non-null   float64\n",
      " 16  review_scores_accuracy       5542 non-null   float64\n",
      " 17  review_scores_cleanliness    5542 non-null   float64\n",
      " 18  review_scores_checkin        5541 non-null   float64\n",
      " 19  review_scores_communication  5542 non-null   float64\n",
      " 20  review_scores_location       5541 non-null   float64\n",
      " 21  review_scores_value          5541 non-null   float64\n",
      "dtypes: float64(7), int64(4), object(11)\n",
      "memory usage: 1.1+ MB\n"
     ]
    }
   ],
   "source": [
    "listings_df.info()"
   ]
  },
  {
   "cell_type": "code",
   "execution_count": 11,
   "metadata": {},
   "outputs": [],
   "source": [
    "listings_missing_percent,listings_total_empty_rows,listings_total_empty_columns,listings_col_with_missing_values = missing_value_stats(listings_df)"
   ]
  },
  {
   "cell_type": "code",
   "execution_count": 12,
   "metadata": {
    "scrolled": true
   },
   "outputs": [
    {
     "data": {
      "text/plain": [
       "'listings_missing_percent:'"
      ]
     },
     "metadata": {},
     "output_type": "display_data"
    },
    {
     "data": {
      "text/plain": [
       "{'id': 0.0,\n",
       " 'host_id': 0.0,\n",
       " 'host_since': 0.0,\n",
       " 'host_response_time': 15.377817057003975,\n",
       " 'host_response_rate': 15.377817057003975,\n",
       " 'host_acceptance_rate': 11.769038149948447,\n",
       " 'host_is_superhost': 0.07364854912358226,\n",
       " 'host_neighbourhood': 4.919723081455295,\n",
       " 'host_listings_count': 0.0,\n",
       " 'host_total_listings_count': 0.0,\n",
       " 'neighbourhood_cleansed': 0.0,\n",
       " 'property_type': 0.0,\n",
       " 'room_type': 0.0,\n",
       " 'amenities': 0.0,\n",
       " 'price': 0.0,\n",
       " 'review_scores_rating': 18.07335395492709,\n",
       " 'review_scores_accuracy': 18.367948151421416,\n",
       " 'review_scores_cleanliness': 18.367948151421416,\n",
       " 'review_scores_checkin': 18.382677861246133,\n",
       " 'review_scores_communication': 18.367948151421416,\n",
       " 'review_scores_location': 18.382677861246133,\n",
       " 'review_scores_value': 18.382677861246133}"
      ]
     },
     "metadata": {},
     "output_type": "display_data"
    },
    {
     "name": "stdout",
     "output_type": "stream",
     "text": [
      "listings_total_empty_rows: 0\n",
      "listings_total_empty_columns: 0\n"
     ]
    }
   ],
   "source": [
    "#understanding of missing data in listings_df\n",
    "display(\"listings_missing_percent:\",listings_missing_percent)\n",
    "print('listings_total_empty_rows:',listings_total_empty_rows)\n",
    "print(\"listings_total_empty_columns:\",listings_total_empty_columns)"
   ]
  },
  {
   "cell_type": "code",
   "execution_count": 13,
   "metadata": {},
   "outputs": [],
   "source": [
    "listings_dtype_counts,listings_object_cols,listings_int_cols,listings_float_cols = columns_based_on_dtype(listings_df)"
   ]
  },
  {
   "cell_type": "code",
   "execution_count": 14,
   "metadata": {
    "scrolled": true
   },
   "outputs": [
    {
     "data": {
      "text/plain": [
       "'listings_dtype_counts:'"
      ]
     },
     "metadata": {},
     "output_type": "display_data"
    },
    {
     "data": {
      "text/plain": [
       "object     11\n",
       "float64     7\n",
       "int64       4\n",
       "dtype: int64"
      ]
     },
     "metadata": {},
     "output_type": "display_data"
    },
    {
     "data": {
      "text/plain": [
       "'listings_object_cols:'"
      ]
     },
     "metadata": {},
     "output_type": "display_data"
    },
    {
     "data": {
      "text/plain": [
       "['host_since',\n",
       " 'host_response_time',\n",
       " 'host_response_rate',\n",
       " 'host_acceptance_rate',\n",
       " 'host_is_superhost',\n",
       " 'host_neighbourhood',\n",
       " 'neighbourhood_cleansed',\n",
       " 'property_type',\n",
       " 'room_type',\n",
       " 'amenities',\n",
       " 'price']"
      ]
     },
     "metadata": {},
     "output_type": "display_data"
    },
    {
     "data": {
      "text/plain": [
       "'listings_int_cols:'"
      ]
     },
     "metadata": {},
     "output_type": "display_data"
    },
    {
     "data": {
      "text/plain": [
       "['id', 'host_id', 'host_listings_count', 'host_total_listings_count']"
      ]
     },
     "metadata": {},
     "output_type": "display_data"
    },
    {
     "data": {
      "text/plain": [
       "'listings_float_cols:'"
      ]
     },
     "metadata": {},
     "output_type": "display_data"
    },
    {
     "data": {
      "text/plain": [
       "['review_scores_rating',\n",
       " 'review_scores_accuracy',\n",
       " 'review_scores_cleanliness',\n",
       " 'review_scores_checkin',\n",
       " 'review_scores_communication',\n",
       " 'review_scores_location',\n",
       " 'review_scores_value']"
      ]
     },
     "metadata": {},
     "output_type": "display_data"
    }
   ],
   "source": [
    "# Seperated columns based on their dtypes\n",
    "display(\"listings_dtype_counts:\",listings_dtype_counts)\n",
    "display('listings_object_cols:',listings_object_cols)\n",
    "display(\"listings_int_cols:\",listings_int_cols)\n",
    "display(\"listings_float_cols:\",listings_float_cols)"
   ]
  },
  {
   "cell_type": "code",
   "execution_count": 15,
   "metadata": {},
   "outputs": [
    {
     "data": {
      "text/html": [
       "<div>\n",
       "<style scoped>\n",
       "    .dataframe tbody tr th:only-of-type {\n",
       "        vertical-align: middle;\n",
       "    }\n",
       "\n",
       "    .dataframe tbody tr th {\n",
       "        vertical-align: top;\n",
       "    }\n",
       "\n",
       "    .dataframe thead th {\n",
       "        text-align: right;\n",
       "    }\n",
       "</style>\n",
       "<table border=\"1\" class=\"dataframe\">\n",
       "  <thead>\n",
       "    <tr style=\"text-align: right;\">\n",
       "      <th></th>\n",
       "      <th>host_since</th>\n",
       "      <th>host_response_time</th>\n",
       "      <th>host_response_rate</th>\n",
       "      <th>host_acceptance_rate</th>\n",
       "      <th>host_is_superhost</th>\n",
       "      <th>host_neighbourhood</th>\n",
       "      <th>neighbourhood_cleansed</th>\n",
       "      <th>property_type</th>\n",
       "      <th>room_type</th>\n",
       "      <th>amenities</th>\n",
       "      <th>price</th>\n",
       "    </tr>\n",
       "  </thead>\n",
       "  <tbody>\n",
       "    <tr>\n",
       "      <th>0</th>\n",
       "      <td>2010-08-29</td>\n",
       "      <td>within a few hours</td>\n",
       "      <td>100%</td>\n",
       "      <td>89%</td>\n",
       "      <td>f</td>\n",
       "      <td>Pacific Heights</td>\n",
       "      <td>Pacific Heights</td>\n",
       "      <td>Private room in rental unit</td>\n",
       "      <td>Private room</td>\n",
       "      <td>[\"Lock on bedroom door\", \"Essentials\", \"Dryer\"...</td>\n",
       "      <td>$55.00</td>\n",
       "    </tr>\n",
       "    <tr>\n",
       "      <th>1</th>\n",
       "      <td>2008-07-31</td>\n",
       "      <td>within an hour</td>\n",
       "      <td>100%</td>\n",
       "      <td>98%</td>\n",
       "      <td>t</td>\n",
       "      <td>Duboce Triangle</td>\n",
       "      <td>Western Addition</td>\n",
       "      <td>Entire serviced apartment</td>\n",
       "      <td>Entire home/apt</td>\n",
       "      <td>[\"Essentials\", \"Kitchen\", \"Toaster\", \"Free was...</td>\n",
       "      <td>$194.00</td>\n",
       "    </tr>\n",
       "    <tr>\n",
       "      <th>2</th>\n",
       "      <td>2009-03-02</td>\n",
       "      <td>within a few hours</td>\n",
       "      <td>80%</td>\n",
       "      <td>71%</td>\n",
       "      <td>f</td>\n",
       "      <td>Bernal Heights</td>\n",
       "      <td>Bernal Heights</td>\n",
       "      <td>Entire rental unit</td>\n",
       "      <td>Entire home/apt</td>\n",
       "      <td>[\"Essentials\", \"Dryer\", \"Hair dryer\", \"Smoke a...</td>\n",
       "      <td>$235.00</td>\n",
       "    </tr>\n",
       "    <tr>\n",
       "      <th>3</th>\n",
       "      <td>2009-06-17</td>\n",
       "      <td>within a few hours</td>\n",
       "      <td>100%</td>\n",
       "      <td>74%</td>\n",
       "      <td>f</td>\n",
       "      <td>Cole Valley</td>\n",
       "      <td>Haight Ashbury</td>\n",
       "      <td>Private room in rental unit</td>\n",
       "      <td>Private room</td>\n",
       "      <td>[\"Lock on bedroom door\", \"Kitchen\", \"Free stre...</td>\n",
       "      <td>$56.00</td>\n",
       "    </tr>\n",
       "    <tr>\n",
       "      <th>4</th>\n",
       "      <td>2009-07-02</td>\n",
       "      <td>within a few hours</td>\n",
       "      <td>100%</td>\n",
       "      <td>0%</td>\n",
       "      <td>f</td>\n",
       "      <td>Alamo Square</td>\n",
       "      <td>Western Addition</td>\n",
       "      <td>Entire condo</td>\n",
       "      <td>Entire home/apt</td>\n",
       "      <td>[\"Essentials\", \"Kitchen\", \"Toaster\", \"Free str...</td>\n",
       "      <td>$575.00</td>\n",
       "    </tr>\n",
       "  </tbody>\n",
       "</table>\n",
       "</div>"
      ],
      "text/plain": [
       "   host_since  host_response_time host_response_rate host_acceptance_rate  \\\n",
       "0  2010-08-29  within a few hours               100%                  89%   \n",
       "1  2008-07-31      within an hour               100%                  98%   \n",
       "2  2009-03-02  within a few hours                80%                  71%   \n",
       "3  2009-06-17  within a few hours               100%                  74%   \n",
       "4  2009-07-02  within a few hours               100%                   0%   \n",
       "\n",
       "  host_is_superhost host_neighbourhood neighbourhood_cleansed  \\\n",
       "0                 f    Pacific Heights        Pacific Heights   \n",
       "1                 t    Duboce Triangle       Western Addition   \n",
       "2                 f     Bernal Heights         Bernal Heights   \n",
       "3                 f        Cole Valley         Haight Ashbury   \n",
       "4                 f       Alamo Square       Western Addition   \n",
       "\n",
       "                 property_type        room_type  \\\n",
       "0  Private room in rental unit     Private room   \n",
       "1    Entire serviced apartment  Entire home/apt   \n",
       "2           Entire rental unit  Entire home/apt   \n",
       "3  Private room in rental unit     Private room   \n",
       "4                 Entire condo  Entire home/apt   \n",
       "\n",
       "                                           amenities    price  \n",
       "0  [\"Lock on bedroom door\", \"Essentials\", \"Dryer\"...   $55.00  \n",
       "1  [\"Essentials\", \"Kitchen\", \"Toaster\", \"Free was...  $194.00  \n",
       "2  [\"Essentials\", \"Dryer\", \"Hair dryer\", \"Smoke a...  $235.00  \n",
       "3  [\"Lock on bedroom door\", \"Kitchen\", \"Free stre...   $56.00  \n",
       "4  [\"Essentials\", \"Kitchen\", \"Toaster\", \"Free str...  $575.00  "
      ]
     },
     "execution_count": 15,
     "metadata": {},
     "output_type": "execute_result"
    }
   ],
   "source": [
    "listings_df[listings_object_cols].head(5)"
   ]
  },
  {
   "cell_type": "markdown",
   "metadata": {},
   "source": [
    "# Understanding Reviews Data"
   ]
  },
  {
   "cell_type": "markdown",
   "metadata": {},
   "source": [
    "<!-- understanding reviews data -->"
   ]
  },
  {
   "cell_type": "code",
   "execution_count": 16,
   "metadata": {
    "scrolled": true
   },
   "outputs": [
    {
     "data": {
      "text/html": [
       "<div>\n",
       "<style scoped>\n",
       "    .dataframe tbody tr th:only-of-type {\n",
       "        vertical-align: middle;\n",
       "    }\n",
       "\n",
       "    .dataframe tbody tr th {\n",
       "        vertical-align: top;\n",
       "    }\n",
       "\n",
       "    .dataframe thead th {\n",
       "        text-align: right;\n",
       "    }\n",
       "</style>\n",
       "<table border=\"1\" class=\"dataframe\">\n",
       "  <thead>\n",
       "    <tr style=\"text-align: right;\">\n",
       "      <th></th>\n",
       "      <th>listing_id</th>\n",
       "      <th>id</th>\n",
       "      <th>date</th>\n",
       "      <th>reviewer_id</th>\n",
       "      <th>reviewer_name</th>\n",
       "      <th>comments</th>\n",
       "    </tr>\n",
       "  </thead>\n",
       "  <tbody>\n",
       "    <tr>\n",
       "      <th>0</th>\n",
       "      <td>958</td>\n",
       "      <td>5977</td>\n",
       "      <td>2009-07-23</td>\n",
       "      <td>15695</td>\n",
       "      <td>Edmund C</td>\n",
       "      <td>Our experience was, without a doubt, a five st...</td>\n",
       "    </tr>\n",
       "    <tr>\n",
       "      <th>1</th>\n",
       "      <td>958</td>\n",
       "      <td>6660</td>\n",
       "      <td>2009-08-03</td>\n",
       "      <td>26145</td>\n",
       "      <td>Simon</td>\n",
       "      <td>Returning to San Francisco is a rejuvenating t...</td>\n",
       "    </tr>\n",
       "    <tr>\n",
       "      <th>2</th>\n",
       "      <td>958</td>\n",
       "      <td>11519</td>\n",
       "      <td>2009-09-27</td>\n",
       "      <td>25839</td>\n",
       "      <td>Denis</td>\n",
       "      <td>We were very pleased with the accommodations a...</td>\n",
       "    </tr>\n",
       "    <tr>\n",
       "      <th>3</th>\n",
       "      <td>958</td>\n",
       "      <td>16282</td>\n",
       "      <td>2009-11-05</td>\n",
       "      <td>33750</td>\n",
       "      <td>Anna</td>\n",
       "      <td>We highly recommend this accomodation and agre...</td>\n",
       "    </tr>\n",
       "    <tr>\n",
       "      <th>4</th>\n",
       "      <td>958</td>\n",
       "      <td>26008</td>\n",
       "      <td>2010-02-13</td>\n",
       "      <td>15416</td>\n",
       "      <td>V Jillian</td>\n",
       "      <td>Holly's place was great. It was exactly what I...</td>\n",
       "    </tr>\n",
       "  </tbody>\n",
       "</table>\n",
       "</div>"
      ],
      "text/plain": [
       "   listing_id     id        date  reviewer_id reviewer_name  \\\n",
       "0         958   5977  2009-07-23        15695      Edmund C   \n",
       "1         958   6660  2009-08-03        26145         Simon   \n",
       "2         958  11519  2009-09-27        25839         Denis   \n",
       "3         958  16282  2009-11-05        33750          Anna   \n",
       "4         958  26008  2010-02-13        15416     V Jillian   \n",
       "\n",
       "                                            comments  \n",
       "0  Our experience was, without a doubt, a five st...  \n",
       "1  Returning to San Francisco is a rejuvenating t...  \n",
       "2  We were very pleased with the accommodations a...  \n",
       "3  We highly recommend this accomodation and agre...  \n",
       "4  Holly's place was great. It was exactly what I...  "
      ]
     },
     "execution_count": 16,
     "metadata": {},
     "output_type": "execute_result"
    }
   ],
   "source": [
    "reviews_df.head(5)"
   ]
  },
  {
   "cell_type": "code",
   "execution_count": 17,
   "metadata": {},
   "outputs": [
    {
     "data": {
      "text/plain": [
       "(330349, 6)"
      ]
     },
     "execution_count": 17,
     "metadata": {},
     "output_type": "execute_result"
    }
   ],
   "source": [
    "reviews_df.shape"
   ]
  },
  {
   "cell_type": "code",
   "execution_count": 18,
   "metadata": {},
   "outputs": [
    {
     "name": "stdout",
     "output_type": "stream",
     "text": [
      "<class 'pandas.core.frame.DataFrame'>\n",
      "RangeIndex: 330349 entries, 0 to 330348\n",
      "Data columns (total 6 columns):\n",
      " #   Column         Non-Null Count   Dtype \n",
      "---  ------         --------------   ----- \n",
      " 0   listing_id     330349 non-null  int64 \n",
      " 1   id             330349 non-null  int64 \n",
      " 2   date           330349 non-null  object\n",
      " 3   reviewer_id    330349 non-null  int64 \n",
      " 4   reviewer_name  330349 non-null  object\n",
      " 5   comments       330300 non-null  object\n",
      "dtypes: int64(3), object(3)\n",
      "memory usage: 15.1+ MB\n"
     ]
    }
   ],
   "source": [
    "reviews_df.info()"
   ]
  },
  {
   "cell_type": "code",
   "execution_count": 19,
   "metadata": {},
   "outputs": [],
   "source": [
    "reviews_missing_percent,reviews_total_empty_rows,reviews_total_empty_columns,reviews_col_with_missing_values = missing_value_stats(reviews_df)"
   ]
  },
  {
   "cell_type": "code",
   "execution_count": 20,
   "metadata": {},
   "outputs": [
    {
     "data": {
      "text/plain": [
       "'reviews_missing_percent:'"
      ]
     },
     "metadata": {},
     "output_type": "display_data"
    },
    {
     "data": {
      "text/plain": [
       "{'listing_id': 0.0,\n",
       " 'id': 0.0,\n",
       " 'date': 0.0,\n",
       " 'reviewer_id': 0.0,\n",
       " 'reviewer_name': 0.0,\n",
       " 'comments': 0.014832798040859818}"
      ]
     },
     "metadata": {},
     "output_type": "display_data"
    },
    {
     "name": "stdout",
     "output_type": "stream",
     "text": [
      "reviews_total_empty_rows: 0\n",
      "reviews_total_empty_columns: 0\n"
     ]
    },
    {
     "data": {
      "text/plain": [
       "'reviews_col_with_missing_values:'"
      ]
     },
     "metadata": {},
     "output_type": "display_data"
    },
    {
     "data": {
      "text/plain": [
       "['listing_id', 'id', 'date', 'reviewer_id', 'reviewer_name', 'comments']"
      ]
     },
     "metadata": {},
     "output_type": "display_data"
    }
   ],
   "source": [
    "##understanding of missing data in reviews_df\n",
    "display(\"reviews_missing_percent:\",reviews_missing_percent)\n",
    "print('reviews_total_empty_rows:',reviews_total_empty_rows)\n",
    "print(\"reviews_total_empty_columns:\",reviews_total_empty_columns)\n",
    "display(\"reviews_col_with_missing_values:\",reviews_col_with_missing_values)"
   ]
  },
  {
   "cell_type": "code",
   "execution_count": 21,
   "metadata": {},
   "outputs": [],
   "source": [
    "reviews_dtype_counts,reviews_object_cols,reviews_int_cols,reviews_float_cols = columns_based_on_dtype(reviews_df)"
   ]
  },
  {
   "cell_type": "code",
   "execution_count": 22,
   "metadata": {},
   "outputs": [
    {
     "data": {
      "text/plain": [
       "'reviews_dtype_counts:'"
      ]
     },
     "metadata": {},
     "output_type": "display_data"
    },
    {
     "data": {
      "text/plain": [
       "int64     3\n",
       "object    3\n",
       "dtype: int64"
      ]
     },
     "metadata": {},
     "output_type": "display_data"
    },
    {
     "data": {
      "text/plain": [
       "'reviews_object_cols:'"
      ]
     },
     "metadata": {},
     "output_type": "display_data"
    },
    {
     "data": {
      "text/plain": [
       "['date', 'reviewer_name', 'comments']"
      ]
     },
     "metadata": {},
     "output_type": "display_data"
    },
    {
     "data": {
      "text/plain": [
       "'reviews_int_cols:'"
      ]
     },
     "metadata": {},
     "output_type": "display_data"
    },
    {
     "data": {
      "text/plain": [
       "['listing_id', 'id', 'reviewer_id']"
      ]
     },
     "metadata": {},
     "output_type": "display_data"
    },
    {
     "data": {
      "text/plain": [
       "'reviews_float_cols:'"
      ]
     },
     "metadata": {},
     "output_type": "display_data"
    },
    {
     "data": {
      "text/plain": [
       "[]"
      ]
     },
     "metadata": {},
     "output_type": "display_data"
    }
   ],
   "source": [
    "# Sepearted columns using their dtypes\n",
    "display(\"reviews_dtype_counts:\",reviews_dtype_counts)\n",
    "display('reviews_object_cols:',reviews_object_cols)\n",
    "display(\"reviews_int_cols:\",reviews_int_cols)\n",
    "display(\"reviews_float_cols:\",reviews_float_cols)"
   ]
  },
  {
   "cell_type": "markdown",
   "metadata": {},
   "source": [
    "# Clean"
   ]
  },
  {
   "cell_type": "markdown",
   "metadata": {},
   "source": [
    "To know the neighborhoods which received reviews we can join the columns id and neighborhood cleansed from listings with reviews and create new review_listing_df dataframe"
   ]
  },
  {
   "cell_type": "code",
   "execution_count": 23,
   "metadata": {},
   "outputs": [],
   "source": [
    "review_listing_df = pd.merge(reviews_df,listings_df, left_on='listing_id',right_on='id', how='left')"
   ]
  },
  {
   "cell_type": "code",
   "execution_count": 24,
   "metadata": {
    "scrolled": true
   },
   "outputs": [
    {
     "data": {
      "text/html": [
       "<div>\n",
       "<style scoped>\n",
       "    .dataframe tbody tr th:only-of-type {\n",
       "        vertical-align: middle;\n",
       "    }\n",
       "\n",
       "    .dataframe tbody tr th {\n",
       "        vertical-align: top;\n",
       "    }\n",
       "\n",
       "    .dataframe thead th {\n",
       "        text-align: right;\n",
       "    }\n",
       "</style>\n",
       "<table border=\"1\" class=\"dataframe\">\n",
       "  <thead>\n",
       "    <tr style=\"text-align: right;\">\n",
       "      <th></th>\n",
       "      <th>listing_id</th>\n",
       "      <th>id_x</th>\n",
       "      <th>date</th>\n",
       "      <th>reviewer_id</th>\n",
       "      <th>reviewer_name</th>\n",
       "      <th>comments</th>\n",
       "      <th>id_y</th>\n",
       "      <th>host_id</th>\n",
       "      <th>host_since</th>\n",
       "      <th>host_response_time</th>\n",
       "      <th>host_response_rate</th>\n",
       "      <th>host_acceptance_rate</th>\n",
       "      <th>host_is_superhost</th>\n",
       "      <th>host_neighbourhood</th>\n",
       "      <th>host_listings_count</th>\n",
       "      <th>host_total_listings_count</th>\n",
       "      <th>neighbourhood_cleansed</th>\n",
       "      <th>property_type</th>\n",
       "      <th>room_type</th>\n",
       "      <th>amenities</th>\n",
       "      <th>price</th>\n",
       "      <th>review_scores_rating</th>\n",
       "      <th>review_scores_accuracy</th>\n",
       "      <th>review_scores_cleanliness</th>\n",
       "      <th>review_scores_checkin</th>\n",
       "      <th>review_scores_communication</th>\n",
       "      <th>review_scores_location</th>\n",
       "      <th>review_scores_value</th>\n",
       "    </tr>\n",
       "  </thead>\n",
       "  <tbody>\n",
       "    <tr>\n",
       "      <th>0</th>\n",
       "      <td>958</td>\n",
       "      <td>5977</td>\n",
       "      <td>2009-07-23</td>\n",
       "      <td>15695</td>\n",
       "      <td>Edmund C</td>\n",
       "      <td>Our experience was, without a doubt, a five st...</td>\n",
       "      <td>958</td>\n",
       "      <td>1169</td>\n",
       "      <td>2008-07-31</td>\n",
       "      <td>within an hour</td>\n",
       "      <td>100%</td>\n",
       "      <td>98%</td>\n",
       "      <td>t</td>\n",
       "      <td>Duboce Triangle</td>\n",
       "      <td>1</td>\n",
       "      <td>1</td>\n",
       "      <td>Western Addition</td>\n",
       "      <td>Entire serviced apartment</td>\n",
       "      <td>Entire home/apt</td>\n",
       "      <td>[\"Essentials\", \"Kitchen\", \"Toaster\", \"Free was...</td>\n",
       "      <td>$194.00</td>\n",
       "      <td>4.86</td>\n",
       "      <td>4.93</td>\n",
       "      <td>4.92</td>\n",
       "      <td>4.95</td>\n",
       "      <td>4.88</td>\n",
       "      <td>4.98</td>\n",
       "      <td>4.76</td>\n",
       "    </tr>\n",
       "    <tr>\n",
       "      <th>1</th>\n",
       "      <td>958</td>\n",
       "      <td>6660</td>\n",
       "      <td>2009-08-03</td>\n",
       "      <td>26145</td>\n",
       "      <td>Simon</td>\n",
       "      <td>Returning to San Francisco is a rejuvenating t...</td>\n",
       "      <td>958</td>\n",
       "      <td>1169</td>\n",
       "      <td>2008-07-31</td>\n",
       "      <td>within an hour</td>\n",
       "      <td>100%</td>\n",
       "      <td>98%</td>\n",
       "      <td>t</td>\n",
       "      <td>Duboce Triangle</td>\n",
       "      <td>1</td>\n",
       "      <td>1</td>\n",
       "      <td>Western Addition</td>\n",
       "      <td>Entire serviced apartment</td>\n",
       "      <td>Entire home/apt</td>\n",
       "      <td>[\"Essentials\", \"Kitchen\", \"Toaster\", \"Free was...</td>\n",
       "      <td>$194.00</td>\n",
       "      <td>4.86</td>\n",
       "      <td>4.93</td>\n",
       "      <td>4.92</td>\n",
       "      <td>4.95</td>\n",
       "      <td>4.88</td>\n",
       "      <td>4.98</td>\n",
       "      <td>4.76</td>\n",
       "    </tr>\n",
       "    <tr>\n",
       "      <th>2</th>\n",
       "      <td>958</td>\n",
       "      <td>11519</td>\n",
       "      <td>2009-09-27</td>\n",
       "      <td>25839</td>\n",
       "      <td>Denis</td>\n",
       "      <td>We were very pleased with the accommodations a...</td>\n",
       "      <td>958</td>\n",
       "      <td>1169</td>\n",
       "      <td>2008-07-31</td>\n",
       "      <td>within an hour</td>\n",
       "      <td>100%</td>\n",
       "      <td>98%</td>\n",
       "      <td>t</td>\n",
       "      <td>Duboce Triangle</td>\n",
       "      <td>1</td>\n",
       "      <td>1</td>\n",
       "      <td>Western Addition</td>\n",
       "      <td>Entire serviced apartment</td>\n",
       "      <td>Entire home/apt</td>\n",
       "      <td>[\"Essentials\", \"Kitchen\", \"Toaster\", \"Free was...</td>\n",
       "      <td>$194.00</td>\n",
       "      <td>4.86</td>\n",
       "      <td>4.93</td>\n",
       "      <td>4.92</td>\n",
       "      <td>4.95</td>\n",
       "      <td>4.88</td>\n",
       "      <td>4.98</td>\n",
       "      <td>4.76</td>\n",
       "    </tr>\n",
       "    <tr>\n",
       "      <th>3</th>\n",
       "      <td>958</td>\n",
       "      <td>16282</td>\n",
       "      <td>2009-11-05</td>\n",
       "      <td>33750</td>\n",
       "      <td>Anna</td>\n",
       "      <td>We highly recommend this accomodation and agre...</td>\n",
       "      <td>958</td>\n",
       "      <td>1169</td>\n",
       "      <td>2008-07-31</td>\n",
       "      <td>within an hour</td>\n",
       "      <td>100%</td>\n",
       "      <td>98%</td>\n",
       "      <td>t</td>\n",
       "      <td>Duboce Triangle</td>\n",
       "      <td>1</td>\n",
       "      <td>1</td>\n",
       "      <td>Western Addition</td>\n",
       "      <td>Entire serviced apartment</td>\n",
       "      <td>Entire home/apt</td>\n",
       "      <td>[\"Essentials\", \"Kitchen\", \"Toaster\", \"Free was...</td>\n",
       "      <td>$194.00</td>\n",
       "      <td>4.86</td>\n",
       "      <td>4.93</td>\n",
       "      <td>4.92</td>\n",
       "      <td>4.95</td>\n",
       "      <td>4.88</td>\n",
       "      <td>4.98</td>\n",
       "      <td>4.76</td>\n",
       "    </tr>\n",
       "    <tr>\n",
       "      <th>4</th>\n",
       "      <td>958</td>\n",
       "      <td>26008</td>\n",
       "      <td>2010-02-13</td>\n",
       "      <td>15416</td>\n",
       "      <td>V Jillian</td>\n",
       "      <td>Holly's place was great. It was exactly what I...</td>\n",
       "      <td>958</td>\n",
       "      <td>1169</td>\n",
       "      <td>2008-07-31</td>\n",
       "      <td>within an hour</td>\n",
       "      <td>100%</td>\n",
       "      <td>98%</td>\n",
       "      <td>t</td>\n",
       "      <td>Duboce Triangle</td>\n",
       "      <td>1</td>\n",
       "      <td>1</td>\n",
       "      <td>Western Addition</td>\n",
       "      <td>Entire serviced apartment</td>\n",
       "      <td>Entire home/apt</td>\n",
       "      <td>[\"Essentials\", \"Kitchen\", \"Toaster\", \"Free was...</td>\n",
       "      <td>$194.00</td>\n",
       "      <td>4.86</td>\n",
       "      <td>4.93</td>\n",
       "      <td>4.92</td>\n",
       "      <td>4.95</td>\n",
       "      <td>4.88</td>\n",
       "      <td>4.98</td>\n",
       "      <td>4.76</td>\n",
       "    </tr>\n",
       "    <tr>\n",
       "      <th>5</th>\n",
       "      <td>958</td>\n",
       "      <td>29240</td>\n",
       "      <td>2010-03-13</td>\n",
       "      <td>78623</td>\n",
       "      <td>Mathieu</td>\n",
       "      <td>On top of all that has been said previously, I...</td>\n",
       "      <td>958</td>\n",
       "      <td>1169</td>\n",
       "      <td>2008-07-31</td>\n",
       "      <td>within an hour</td>\n",
       "      <td>100%</td>\n",
       "      <td>98%</td>\n",
       "      <td>t</td>\n",
       "      <td>Duboce Triangle</td>\n",
       "      <td>1</td>\n",
       "      <td>1</td>\n",
       "      <td>Western Addition</td>\n",
       "      <td>Entire serviced apartment</td>\n",
       "      <td>Entire home/apt</td>\n",
       "      <td>[\"Essentials\", \"Kitchen\", \"Toaster\", \"Free was...</td>\n",
       "      <td>$194.00</td>\n",
       "      <td>4.86</td>\n",
       "      <td>4.93</td>\n",
       "      <td>4.92</td>\n",
       "      <td>4.95</td>\n",
       "      <td>4.88</td>\n",
       "      <td>4.98</td>\n",
       "      <td>4.76</td>\n",
       "    </tr>\n",
       "    <tr>\n",
       "      <th>6</th>\n",
       "      <td>958</td>\n",
       "      <td>32988</td>\n",
       "      <td>2010-04-03</td>\n",
       "      <td>96027</td>\n",
       "      <td>Lauren</td>\n",
       "      <td>This apartment was everything I could have hop...</td>\n",
       "      <td>958</td>\n",
       "      <td>1169</td>\n",
       "      <td>2008-07-31</td>\n",
       "      <td>within an hour</td>\n",
       "      <td>100%</td>\n",
       "      <td>98%</td>\n",
       "      <td>t</td>\n",
       "      <td>Duboce Triangle</td>\n",
       "      <td>1</td>\n",
       "      <td>1</td>\n",
       "      <td>Western Addition</td>\n",
       "      <td>Entire serviced apartment</td>\n",
       "      <td>Entire home/apt</td>\n",
       "      <td>[\"Essentials\", \"Kitchen\", \"Toaster\", \"Free was...</td>\n",
       "      <td>$194.00</td>\n",
       "      <td>4.86</td>\n",
       "      <td>4.93</td>\n",
       "      <td>4.92</td>\n",
       "      <td>4.95</td>\n",
       "      <td>4.88</td>\n",
       "      <td>4.98</td>\n",
       "      <td>4.76</td>\n",
       "    </tr>\n",
       "    <tr>\n",
       "      <th>7</th>\n",
       "      <td>958</td>\n",
       "      <td>220443</td>\n",
       "      <td>2011-04-08</td>\n",
       "      <td>426888</td>\n",
       "      <td>Michelle</td>\n",
       "      <td>Great place to stay.  I would highly recommend...</td>\n",
       "      <td>958</td>\n",
       "      <td>1169</td>\n",
       "      <td>2008-07-31</td>\n",
       "      <td>within an hour</td>\n",
       "      <td>100%</td>\n",
       "      <td>98%</td>\n",
       "      <td>t</td>\n",
       "      <td>Duboce Triangle</td>\n",
       "      <td>1</td>\n",
       "      <td>1</td>\n",
       "      <td>Western Addition</td>\n",
       "      <td>Entire serviced apartment</td>\n",
       "      <td>Entire home/apt</td>\n",
       "      <td>[\"Essentials\", \"Kitchen\", \"Toaster\", \"Free was...</td>\n",
       "      <td>$194.00</td>\n",
       "      <td>4.86</td>\n",
       "      <td>4.93</td>\n",
       "      <td>4.92</td>\n",
       "      <td>4.95</td>\n",
       "      <td>4.88</td>\n",
       "      <td>4.98</td>\n",
       "      <td>4.76</td>\n",
       "    </tr>\n",
       "    <tr>\n",
       "      <th>8</th>\n",
       "      <td>958</td>\n",
       "      <td>567690</td>\n",
       "      <td>2011-09-26</td>\n",
       "      <td>539189</td>\n",
       "      <td>Sarah</td>\n",
       "      <td>Great location in San Francisco, really felt l...</td>\n",
       "      <td>958</td>\n",
       "      <td>1169</td>\n",
       "      <td>2008-07-31</td>\n",
       "      <td>within an hour</td>\n",
       "      <td>100%</td>\n",
       "      <td>98%</td>\n",
       "      <td>t</td>\n",
       "      <td>Duboce Triangle</td>\n",
       "      <td>1</td>\n",
       "      <td>1</td>\n",
       "      <td>Western Addition</td>\n",
       "      <td>Entire serviced apartment</td>\n",
       "      <td>Entire home/apt</td>\n",
       "      <td>[\"Essentials\", \"Kitchen\", \"Toaster\", \"Free was...</td>\n",
       "      <td>$194.00</td>\n",
       "      <td>4.86</td>\n",
       "      <td>4.93</td>\n",
       "      <td>4.92</td>\n",
       "      <td>4.95</td>\n",
       "      <td>4.88</td>\n",
       "      <td>4.98</td>\n",
       "      <td>4.76</td>\n",
       "    </tr>\n",
       "    <tr>\n",
       "      <th>9</th>\n",
       "      <td>958</td>\n",
       "      <td>1786860</td>\n",
       "      <td>2012-07-24</td>\n",
       "      <td>2059845</td>\n",
       "      <td>Jörg</td>\n",
       "      <td>We had a wonderful time at Holly &amp; Davids plac...</td>\n",
       "      <td>958</td>\n",
       "      <td>1169</td>\n",
       "      <td>2008-07-31</td>\n",
       "      <td>within an hour</td>\n",
       "      <td>100%</td>\n",
       "      <td>98%</td>\n",
       "      <td>t</td>\n",
       "      <td>Duboce Triangle</td>\n",
       "      <td>1</td>\n",
       "      <td>1</td>\n",
       "      <td>Western Addition</td>\n",
       "      <td>Entire serviced apartment</td>\n",
       "      <td>Entire home/apt</td>\n",
       "      <td>[\"Essentials\", \"Kitchen\", \"Toaster\", \"Free was...</td>\n",
       "      <td>$194.00</td>\n",
       "      <td>4.86</td>\n",
       "      <td>4.93</td>\n",
       "      <td>4.92</td>\n",
       "      <td>4.95</td>\n",
       "      <td>4.88</td>\n",
       "      <td>4.98</td>\n",
       "      <td>4.76</td>\n",
       "    </tr>\n",
       "  </tbody>\n",
       "</table>\n",
       "</div>"
      ],
      "text/plain": [
       "   listing_id     id_x        date  reviewer_id reviewer_name  \\\n",
       "0         958     5977  2009-07-23        15695      Edmund C   \n",
       "1         958     6660  2009-08-03        26145         Simon   \n",
       "2         958    11519  2009-09-27        25839         Denis   \n",
       "3         958    16282  2009-11-05        33750          Anna   \n",
       "4         958    26008  2010-02-13        15416     V Jillian   \n",
       "5         958    29240  2010-03-13        78623       Mathieu   \n",
       "6         958    32988  2010-04-03        96027        Lauren   \n",
       "7         958   220443  2011-04-08       426888      Michelle   \n",
       "8         958   567690  2011-09-26       539189         Sarah   \n",
       "9         958  1786860  2012-07-24      2059845          Jörg   \n",
       "\n",
       "                                            comments  id_y  host_id  \\\n",
       "0  Our experience was, without a doubt, a five st...   958     1169   \n",
       "1  Returning to San Francisco is a rejuvenating t...   958     1169   \n",
       "2  We were very pleased with the accommodations a...   958     1169   \n",
       "3  We highly recommend this accomodation and agre...   958     1169   \n",
       "4  Holly's place was great. It was exactly what I...   958     1169   \n",
       "5  On top of all that has been said previously, I...   958     1169   \n",
       "6  This apartment was everything I could have hop...   958     1169   \n",
       "7  Great place to stay.  I would highly recommend...   958     1169   \n",
       "8  Great location in San Francisco, really felt l...   958     1169   \n",
       "9  We had a wonderful time at Holly & Davids plac...   958     1169   \n",
       "\n",
       "   host_since host_response_time host_response_rate host_acceptance_rate  \\\n",
       "0  2008-07-31     within an hour               100%                  98%   \n",
       "1  2008-07-31     within an hour               100%                  98%   \n",
       "2  2008-07-31     within an hour               100%                  98%   \n",
       "3  2008-07-31     within an hour               100%                  98%   \n",
       "4  2008-07-31     within an hour               100%                  98%   \n",
       "5  2008-07-31     within an hour               100%                  98%   \n",
       "6  2008-07-31     within an hour               100%                  98%   \n",
       "7  2008-07-31     within an hour               100%                  98%   \n",
       "8  2008-07-31     within an hour               100%                  98%   \n",
       "9  2008-07-31     within an hour               100%                  98%   \n",
       "\n",
       "  host_is_superhost host_neighbourhood  host_listings_count  \\\n",
       "0                 t    Duboce Triangle                    1   \n",
       "1                 t    Duboce Triangle                    1   \n",
       "2                 t    Duboce Triangle                    1   \n",
       "3                 t    Duboce Triangle                    1   \n",
       "4                 t    Duboce Triangle                    1   \n",
       "5                 t    Duboce Triangle                    1   \n",
       "6                 t    Duboce Triangle                    1   \n",
       "7                 t    Duboce Triangle                    1   \n",
       "8                 t    Duboce Triangle                    1   \n",
       "9                 t    Duboce Triangle                    1   \n",
       "\n",
       "   host_total_listings_count neighbourhood_cleansed  \\\n",
       "0                          1       Western Addition   \n",
       "1                          1       Western Addition   \n",
       "2                          1       Western Addition   \n",
       "3                          1       Western Addition   \n",
       "4                          1       Western Addition   \n",
       "5                          1       Western Addition   \n",
       "6                          1       Western Addition   \n",
       "7                          1       Western Addition   \n",
       "8                          1       Western Addition   \n",
       "9                          1       Western Addition   \n",
       "\n",
       "               property_type        room_type  \\\n",
       "0  Entire serviced apartment  Entire home/apt   \n",
       "1  Entire serviced apartment  Entire home/apt   \n",
       "2  Entire serviced apartment  Entire home/apt   \n",
       "3  Entire serviced apartment  Entire home/apt   \n",
       "4  Entire serviced apartment  Entire home/apt   \n",
       "5  Entire serviced apartment  Entire home/apt   \n",
       "6  Entire serviced apartment  Entire home/apt   \n",
       "7  Entire serviced apartment  Entire home/apt   \n",
       "8  Entire serviced apartment  Entire home/apt   \n",
       "9  Entire serviced apartment  Entire home/apt   \n",
       "\n",
       "                                           amenities    price  \\\n",
       "0  [\"Essentials\", \"Kitchen\", \"Toaster\", \"Free was...  $194.00   \n",
       "1  [\"Essentials\", \"Kitchen\", \"Toaster\", \"Free was...  $194.00   \n",
       "2  [\"Essentials\", \"Kitchen\", \"Toaster\", \"Free was...  $194.00   \n",
       "3  [\"Essentials\", \"Kitchen\", \"Toaster\", \"Free was...  $194.00   \n",
       "4  [\"Essentials\", \"Kitchen\", \"Toaster\", \"Free was...  $194.00   \n",
       "5  [\"Essentials\", \"Kitchen\", \"Toaster\", \"Free was...  $194.00   \n",
       "6  [\"Essentials\", \"Kitchen\", \"Toaster\", \"Free was...  $194.00   \n",
       "7  [\"Essentials\", \"Kitchen\", \"Toaster\", \"Free was...  $194.00   \n",
       "8  [\"Essentials\", \"Kitchen\", \"Toaster\", \"Free was...  $194.00   \n",
       "9  [\"Essentials\", \"Kitchen\", \"Toaster\", \"Free was...  $194.00   \n",
       "\n",
       "   review_scores_rating  review_scores_accuracy  review_scores_cleanliness  \\\n",
       "0                  4.86                    4.93                       4.92   \n",
       "1                  4.86                    4.93                       4.92   \n",
       "2                  4.86                    4.93                       4.92   \n",
       "3                  4.86                    4.93                       4.92   \n",
       "4                  4.86                    4.93                       4.92   \n",
       "5                  4.86                    4.93                       4.92   \n",
       "6                  4.86                    4.93                       4.92   \n",
       "7                  4.86                    4.93                       4.92   \n",
       "8                  4.86                    4.93                       4.92   \n",
       "9                  4.86                    4.93                       4.92   \n",
       "\n",
       "   review_scores_checkin  review_scores_communication  review_scores_location  \\\n",
       "0                   4.95                         4.88                    4.98   \n",
       "1                   4.95                         4.88                    4.98   \n",
       "2                   4.95                         4.88                    4.98   \n",
       "3                   4.95                         4.88                    4.98   \n",
       "4                   4.95                         4.88                    4.98   \n",
       "5                   4.95                         4.88                    4.98   \n",
       "6                   4.95                         4.88                    4.98   \n",
       "7                   4.95                         4.88                    4.98   \n",
       "8                   4.95                         4.88                    4.98   \n",
       "9                   4.95                         4.88                    4.98   \n",
       "\n",
       "   review_scores_value  \n",
       "0                 4.76  \n",
       "1                 4.76  \n",
       "2                 4.76  \n",
       "3                 4.76  \n",
       "4                 4.76  \n",
       "5                 4.76  \n",
       "6                 4.76  \n",
       "7                 4.76  \n",
       "8                 4.76  \n",
       "9                 4.76  "
      ]
     },
     "execution_count": 24,
     "metadata": {},
     "output_type": "execute_result"
    }
   ],
   "source": [
    "review_listing_df.head(10)"
   ]
  },
  {
   "cell_type": "code",
   "execution_count": 25,
   "metadata": {},
   "outputs": [],
   "source": [
    "review_listing_df = review_listing_df[['listing_id','neighbourhood_cleansed','comments']]"
   ]
  },
  {
   "cell_type": "code",
   "execution_count": 26,
   "metadata": {},
   "outputs": [
    {
     "data": {
      "text/html": [
       "<div>\n",
       "<style scoped>\n",
       "    .dataframe tbody tr th:only-of-type {\n",
       "        vertical-align: middle;\n",
       "    }\n",
       "\n",
       "    .dataframe tbody tr th {\n",
       "        vertical-align: top;\n",
       "    }\n",
       "\n",
       "    .dataframe thead th {\n",
       "        text-align: right;\n",
       "    }\n",
       "</style>\n",
       "<table border=\"1\" class=\"dataframe\">\n",
       "  <thead>\n",
       "    <tr style=\"text-align: right;\">\n",
       "      <th></th>\n",
       "      <th>listing_id</th>\n",
       "      <th>neighbourhood_cleansed</th>\n",
       "      <th>comments</th>\n",
       "    </tr>\n",
       "  </thead>\n",
       "  <tbody>\n",
       "    <tr>\n",
       "      <th>0</th>\n",
       "      <td>958</td>\n",
       "      <td>Western Addition</td>\n",
       "      <td>Our experience was, without a doubt, a five st...</td>\n",
       "    </tr>\n",
       "    <tr>\n",
       "      <th>1</th>\n",
       "      <td>958</td>\n",
       "      <td>Western Addition</td>\n",
       "      <td>Returning to San Francisco is a rejuvenating t...</td>\n",
       "    </tr>\n",
       "    <tr>\n",
       "      <th>2</th>\n",
       "      <td>958</td>\n",
       "      <td>Western Addition</td>\n",
       "      <td>We were very pleased with the accommodations a...</td>\n",
       "    </tr>\n",
       "    <tr>\n",
       "      <th>3</th>\n",
       "      <td>958</td>\n",
       "      <td>Western Addition</td>\n",
       "      <td>We highly recommend this accomodation and agre...</td>\n",
       "    </tr>\n",
       "    <tr>\n",
       "      <th>4</th>\n",
       "      <td>958</td>\n",
       "      <td>Western Addition</td>\n",
       "      <td>Holly's place was great. It was exactly what I...</td>\n",
       "    </tr>\n",
       "    <tr>\n",
       "      <th>5</th>\n",
       "      <td>958</td>\n",
       "      <td>Western Addition</td>\n",
       "      <td>On top of all that has been said previously, I...</td>\n",
       "    </tr>\n",
       "    <tr>\n",
       "      <th>6</th>\n",
       "      <td>958</td>\n",
       "      <td>Western Addition</td>\n",
       "      <td>This apartment was everything I could have hop...</td>\n",
       "    </tr>\n",
       "    <tr>\n",
       "      <th>7</th>\n",
       "      <td>958</td>\n",
       "      <td>Western Addition</td>\n",
       "      <td>Great place to stay.  I would highly recommend...</td>\n",
       "    </tr>\n",
       "    <tr>\n",
       "      <th>8</th>\n",
       "      <td>958</td>\n",
       "      <td>Western Addition</td>\n",
       "      <td>Great location in San Francisco, really felt l...</td>\n",
       "    </tr>\n",
       "    <tr>\n",
       "      <th>9</th>\n",
       "      <td>958</td>\n",
       "      <td>Western Addition</td>\n",
       "      <td>We had a wonderful time at Holly &amp; Davids plac...</td>\n",
       "    </tr>\n",
       "  </tbody>\n",
       "</table>\n",
       "</div>"
      ],
      "text/plain": [
       "   listing_id neighbourhood_cleansed  \\\n",
       "0         958       Western Addition   \n",
       "1         958       Western Addition   \n",
       "2         958       Western Addition   \n",
       "3         958       Western Addition   \n",
       "4         958       Western Addition   \n",
       "5         958       Western Addition   \n",
       "6         958       Western Addition   \n",
       "7         958       Western Addition   \n",
       "8         958       Western Addition   \n",
       "9         958       Western Addition   \n",
       "\n",
       "                                            comments  \n",
       "0  Our experience was, without a doubt, a five st...  \n",
       "1  Returning to San Francisco is a rejuvenating t...  \n",
       "2  We were very pleased with the accommodations a...  \n",
       "3  We highly recommend this accomodation and agre...  \n",
       "4  Holly's place was great. It was exactly what I...  \n",
       "5  On top of all that has been said previously, I...  \n",
       "6  This apartment was everything I could have hop...  \n",
       "7  Great place to stay.  I would highly recommend...  \n",
       "8  Great location in San Francisco, really felt l...  \n",
       "9  We had a wonderful time at Holly & Davids plac...  "
      ]
     },
     "execution_count": 26,
     "metadata": {},
     "output_type": "execute_result"
    }
   ],
   "source": [
    "review_listing_df.head(10)"
   ]
  },
  {
   "cell_type": "code",
   "execution_count": 27,
   "metadata": {},
   "outputs": [],
   "source": [
    "review_listing_missing_percent,review_listing_total_empty_rows,review_listing_total_empty_columns,review_listing_col_with_missing_values = missing_value_stats(review_listing_df)"
   ]
  },
  {
   "cell_type": "code",
   "execution_count": 28,
   "metadata": {},
   "outputs": [
    {
     "data": {
      "text/plain": [
       "'review_listing_missing_percent:'"
      ]
     },
     "metadata": {},
     "output_type": "display_data"
    },
    {
     "data": {
      "text/plain": [
       "{'listing_id': 0.0,\n",
       " 'neighbourhood_cleansed': 0.0,\n",
       " 'comments': 0.014832798040859818}"
      ]
     },
     "metadata": {},
     "output_type": "display_data"
    },
    {
     "name": "stdout",
     "output_type": "stream",
     "text": [
      "review_listing_total_empty_rows: 0\n",
      "review_listing_total_empty_columns: 0\n"
     ]
    },
    {
     "data": {
      "text/plain": [
       "'review_listing_col_with_missing_values:'"
      ]
     },
     "metadata": {},
     "output_type": "display_data"
    },
    {
     "data": {
      "text/plain": [
       "['listing_id', 'neighbourhood_cleansed', 'comments']"
      ]
     },
     "metadata": {},
     "output_type": "display_data"
    }
   ],
   "source": [
    "##understanding of missing data in review_listing_df\n",
    "display(\"review_listing_missing_percent:\",review_listing_missing_percent)\n",
    "print('review_listing_total_empty_rows:',review_listing_total_empty_rows)\n",
    "print(\"review_listing_total_empty_columns:\",review_listing_total_empty_columns)\n",
    "display(\"review_listing_col_with_missing_values:\",review_listing_col_with_missing_values)"
   ]
  },
  {
   "cell_type": "code",
   "execution_count": 29,
   "metadata": {},
   "outputs": [],
   "source": [
    "review_listing_dtype_counts,review_listing_object_cols,review_listing_int_cols,review_listing_float_cols = columns_based_on_dtype(review_listing_df)"
   ]
  },
  {
   "cell_type": "code",
   "execution_count": 30,
   "metadata": {},
   "outputs": [
    {
     "data": {
      "text/plain": [
       "'review_listing_dtype_counts:'"
      ]
     },
     "metadata": {},
     "output_type": "display_data"
    },
    {
     "data": {
      "text/plain": [
       "object    2\n",
       "int64     1\n",
       "dtype: int64"
      ]
     },
     "metadata": {},
     "output_type": "display_data"
    },
    {
     "data": {
      "text/plain": [
       "'review_listing_object_cols:'"
      ]
     },
     "metadata": {},
     "output_type": "display_data"
    },
    {
     "data": {
      "text/plain": [
       "['neighbourhood_cleansed', 'comments']"
      ]
     },
     "metadata": {},
     "output_type": "display_data"
    },
    {
     "data": {
      "text/plain": [
       "'review_listing_int_cols:'"
      ]
     },
     "metadata": {},
     "output_type": "display_data"
    },
    {
     "data": {
      "text/plain": [
       "['listing_id']"
      ]
     },
     "metadata": {},
     "output_type": "display_data"
    },
    {
     "data": {
      "text/plain": [
       "'review_listing_float_cols:'"
      ]
     },
     "metadata": {},
     "output_type": "display_data"
    },
    {
     "data": {
      "text/plain": [
       "[]"
      ]
     },
     "metadata": {},
     "output_type": "display_data"
    }
   ],
   "source": [
    "# Seperate columns using dtype\n",
    "display(\"review_listing_dtype_counts:\",review_listing_dtype_counts)\n",
    "display('review_listing_object_cols:',review_listing_object_cols)\n",
    "display(\"review_listing_int_cols:\",review_listing_int_cols)\n",
    "display(\"review_listing_float_cols:\",review_listing_float_cols)"
   ]
  },
  {
   "cell_type": "code",
   "execution_count": 31,
   "metadata": {},
   "outputs": [],
   "source": [
    "review_listing_categorical_values = unique_values(review_listing_df,review_listing_object_cols)"
   ]
  },
  {
   "cell_type": "code",
   "execution_count": 32,
   "metadata": {},
   "outputs": [
    {
     "data": {
      "text/plain": [
       "['Western Addition',\n",
       " 'Outer Sunset',\n",
       " 'Marina',\n",
       " 'Outer Richmond',\n",
       " 'Inner Richmond',\n",
       " 'Bernal Heights',\n",
       " 'Financial District',\n",
       " 'Haight Ashbury',\n",
       " 'Mission',\n",
       " 'Glen Park',\n",
       " 'Pacific Heights',\n",
       " 'Downtown/Civic Center',\n",
       " 'West of Twin Peaks',\n",
       " 'Bayview',\n",
       " 'Nob Hill',\n",
       " 'Castro/Upper Market',\n",
       " 'North Beach',\n",
       " 'Inner Sunset',\n",
       " 'Noe Valley',\n",
       " 'Potrero Hill',\n",
       " 'Diamond Heights',\n",
       " 'Twin Peaks',\n",
       " 'Chinatown',\n",
       " 'Russian Hill',\n",
       " 'Parkside',\n",
       " 'South of Market',\n",
       " 'Excelsior',\n",
       " 'Outer Mission',\n",
       " 'Presidio Heights',\n",
       " 'Ocean View',\n",
       " 'Lakeshore',\n",
       " 'Crocker Amazon',\n",
       " 'Golden Gate Park',\n",
       " 'Presidio',\n",
       " 'Seacliff',\n",
       " 'Visitacion Valley']"
      ]
     },
     "execution_count": 32,
     "metadata": {},
     "output_type": "execute_result"
    }
   ],
   "source": [
    "review_listing_categorical_values.get('neighbourhood_cleansed')"
   ]
  },
  {
   "cell_type": "code",
   "execution_count": 33,
   "metadata": {},
   "outputs": [],
   "source": [
    "listings_categorical_values = unique_values(listings_df,listings_object_cols)"
   ]
  },
  {
   "cell_type": "code",
   "execution_count": 34,
   "metadata": {},
   "outputs": [
    {
     "data": {
      "text/plain": [
       "dict_keys(['id', 'host_id', 'host_since', 'host_response_time', 'host_response_rate', 'host_acceptance_rate', 'host_is_superhost', 'host_neighbourhood', 'host_listings_count', 'host_total_listings_count', 'neighbourhood_cleansed', 'property_type', 'room_type', 'amenities', 'price', 'review_scores_rating', 'review_scores_accuracy', 'review_scores_cleanliness', 'review_scores_checkin', 'review_scores_communication', 'review_scores_location', 'review_scores_value'])"
      ]
     },
     "execution_count": 34,
     "metadata": {},
     "output_type": "execute_result"
    }
   ],
   "source": [
    "listings_categorical_values.keys()"
   ]
  },
  {
   "cell_type": "markdown",
   "metadata": {},
   "source": [
    "understand what kind of categories are there in each column"
   ]
  },
  {
   "cell_type": "code",
   "execution_count": 35,
   "metadata": {},
   "outputs": [
    {
     "data": {
      "text/plain": [
       "['Pacific Heights',\n",
       " 'Duboce Triangle',\n",
       " 'Bernal Heights',\n",
       " 'Cole Valley',\n",
       " 'Alamo Square',\n",
       " 'Mission District',\n",
       " 'Bayview',\n",
       " 'Nob Hill',\n",
       " 'The Castro',\n",
       " 'Lower Haight',\n",
       " 'Potrero Hill',\n",
       " 'Western Addition/NOPA',\n",
       " 'Glen Park',\n",
       " 'Richmond District',\n",
       " 'Financial District',\n",
       " 'Outer Sunset',\n",
       " 'Marina',\n",
       " 'Noe Valley',\n",
       " 'Haight-Ashbury',\n",
       " 'Tenderloin',\n",
       " 'Balboa Terrace',\n",
       " 'Telegraph Hill',\n",
       " 'Inner Sunset',\n",
       " 'SoMa',\n",
       " 'Excelsior',\n",
       " 'Cow Hollow',\n",
       " 'Sunnyside',\n",
       " nan,\n",
       " 'Russian Hill',\n",
       " 'Presidio Heights',\n",
       " \"Fisherman's Wharf\",\n",
       " 'Saint-Paul - Ile Saint-Louis',\n",
       " 'Japantown',\n",
       " 'Parkside',\n",
       " 'Union Square',\n",
       " 'Crocker Amazon',\n",
       " 'Western Addition',\n",
       " 'Downtown',\n",
       " 'Oceanview',\n",
       " 'Twin Peaks',\n",
       " 'Rincon Hill',\n",
       " 'South Beach',\n",
       " 'Hayes Valley',\n",
       " 'Marina District',\n",
       " 'Portola',\n",
       " 'Rosewood',\n",
       " 'Eureka Valley',\n",
       " 'Mission Terrace',\n",
       " 'Dogpatch',\n",
       " 'Mission Bay',\n",
       " 'Ingleside',\n",
       " 'Civic Center',\n",
       " 'West Portal',\n",
       " 'Lincoln Park',\n",
       " 'North Beach',\n",
       " 'Lakeshore',\n",
       " 'Presidio',\n",
       " 'Santa Cruz',\n",
       " 'Diamond Heights',\n",
       " 'Truckee',\n",
       " 'Forest Hill',\n",
       " 'Amed',\n",
       " 'Belmont',\n",
       " 'Waikiki',\n",
       " 'Visitacion Valley',\n",
       " 'Downtown Vancouver',\n",
       " 'Kailua/Kona',\n",
       " 'Palo Alto',\n",
       " 'Grant Hill',\n",
       " 'Outer Richmond',\n",
       " 'Pacifica',\n",
       " 'Chinatown',\n",
       " 'Soma',\n",
       " 'Kihei/Wailea',\n",
       " 'Zephyr Cove',\n",
       " 'South Lake Tahoe',\n",
       " 'Poipu',\n",
       " 'Daly City',\n",
       " 'Malibu',\n",
       " 'Midtown East',\n",
       " 'Sunnyvale',\n",
       " 'Anaheim',\n",
       " 'Ingleside Heights',\n",
       " 'Buena Vista',\n",
       " 'Mid-Market',\n",
       " 'Sea Cliff',\n",
       " 'Yerba Buena',\n",
       " 'Santa Monica',\n",
       " 'Outer Mission',\n",
       " 'Inner Richmond',\n",
       " 'North Park',\n",
       " 'Westside',\n",
       " 'Northside',\n",
       " 'Commerce - Dupleix',\n",
       " 'Santa Fe',\n",
       " 'Old Town/Chinatown',\n",
       " 'Cambridge',\n",
       " 'Soho',\n",
       " 'Midtown',\n",
       " 'Alphabet City',\n",
       " 'Carnelian Bay',\n",
       " 'Sathorn',\n",
       " 'Union Street',\n",
       " 'Arts District',\n",
       " 'Golden Gate Park',\n",
       " 'Redwood City',\n",
       " 'Miraloma',\n",
       " \"Frenchman's Bay\",\n",
       " \"L'Antiga Esquerra de l'Eixample\",\n",
       " 'West of Twin Peaks',\n",
       " 'Ingleside Terraces',\n",
       " 'Emeryville',\n",
       " 'Burlingame',\n",
       " 'Core-Columbia',\n",
       " 'Eastmont Hills',\n",
       " 'Laurel Heights',\n",
       " 'Sunrise Vista Chino',\n",
       " 'Lower Nob Hill',\n",
       " 'Upper Rockridge',\n",
       " 'China Basin',\n",
       " 'Ashbury Heights',\n",
       " 'Orange',\n",
       " 'Kauaʻi',\n",
       " 'Downtown Los Angeles',\n",
       " 'Anaheim Resort',\n",
       " 'Polk Gulch',\n",
       " 'Kensington',\n",
       " 'Upper East Side',\n",
       " 'Hermosa Beach',\n",
       " 'São Paulo',\n",
       " 'Merced Heights',\n",
       " 'Crocker-Amazon',\n",
       " 'Brentwood',\n",
       " 'Silver Terrace',\n",
       " 'Long Beach',\n",
       " 'Northstar Resort',\n",
       " 'Alameda',\n",
       " 'South Mountain Village',\n",
       " 'Newport Coast',\n",
       " 'East Downtown',\n",
       " 'Mosswood',\n",
       " 'Jeffersonville',\n",
       " 'Central Waterfront',\n",
       " 'Westlake',\n",
       " 'Cannes',\n",
       " 'Santa Clara',\n",
       " 'City of Marco',\n",
       " 'Southwest Berkeley',\n",
       " 'University Heights',\n",
       " 'Central LA',\n",
       " 'Merriwood',\n",
       " 'North Philadelphia',\n",
       " 'Golden Gate',\n",
       " 'Charter Oak',\n",
       " 'Uptown',\n",
       " 'Parnassus Heights',\n",
       " 'Jordan Park',\n",
       " 'Vinohrady',\n",
       " 'Panhandle',\n",
       " 'Southern Crossing',\n",
       " 'Dolores Heights',\n",
       " 'Belding Woods',\n",
       " 'Lone Mountain',\n",
       " 'Willmore',\n",
       " 'North',\n",
       " 'South San Francisco',\n",
       " 'Mission Dolores',\n",
       " 'Shoreline West',\n",
       " 'Golden Gate Heights',\n",
       " 'Southwestern Sacramento',\n",
       " 'Hunters Point',\n",
       " 'Showplace Square',\n",
       " 'Clearwater Beach',\n",
       " 'Little Saigon',\n",
       " 'Northern Waterfront',\n",
       " 'Holly Park',\n",
       " 'Fairmount',\n",
       " 'Cayuga Terrace',\n",
       " 'Little Hollywood',\n",
       " 'Upper Market',\n",
       " 'Eastmont',\n",
       " 'Sutro Heights',\n",
       " 'Bret Harte',\n",
       " 'Peralta Heights',\n",
       " 'Gaslamp Quarter',\n",
       " 'Presidio Terrace',\n",
       " 'Five Points',\n",
       " 'Old Fourth Ward',\n",
       " 'Lower Pacific Heights',\n",
       " 'Mid-Beach',\n",
       " 'Lake Street',\n",
       " 'Fort Mason',\n",
       " 'Zona Romántica',\n",
       " 'North of the Panhandle',\n",
       " 'Oak Lawn',\n",
       " 'Fillmore District',\n",
       " 'Valencia Park',\n",
       " 'Mint Hill',\n",
       " 'St. Marys Park',\n",
       " 'Anza Vista',\n",
       " 'Victoria Island',\n",
       " 'Berryessa',\n",
       " 'Central San Jose',\n",
       " 'Allied Arts',\n",
       " 'North San Jose',\n",
       " 'Cathedral Hill',\n",
       " 'Nawiliwili',\n",
       " 'Venice',\n",
       " 'Vila Nova Conceição',\n",
       " 'Forest Knolls',\n",
       " 'Corona Heights',\n",
       " 'Mills Estates',\n",
       " 'Downtown Austin',\n",
       " 'Downtown Lincoln',\n",
       " 'Merced Manor',\n",
       " 'West Village',\n",
       " 'Garfield Park',\n",
       " 'Willow Meadows/ Willowbend Area',\n",
       " 'Northridge',\n",
       " 'Paradise Valley Village',\n",
       " 'Hillside',\n",
       " 'Townsite',\n",
       " 'Frydendal',\n",
       " 'Charlotte Amalie',\n",
       " 'Mira Mesa',\n",
       " 'Marietta',\n",
       " 'Pinetop',\n",
       " 'Crescent Heights',\n",
       " 'West Adams',\n",
       " 'Shoreview',\n",
       " 'West Beach',\n",
       " 'Central City',\n",
       " 'Curragh Downs',\n",
       " 'Sunset District']"
      ]
     },
     "execution_count": 35,
     "metadata": {},
     "output_type": "execute_result"
    }
   ],
   "source": [
    "listings_categorical_values.get('host_neighbourhood')"
   ]
  },
  {
   "cell_type": "code",
   "execution_count": 36,
   "metadata": {},
   "outputs": [
    {
     "data": {
      "text/plain": [
       "['within a few hours',\n",
       " 'within an hour',\n",
       " nan,\n",
       " 'within a day',\n",
       " 'a few days or more']"
      ]
     },
     "execution_count": 36,
     "metadata": {},
     "output_type": "execute_result"
    }
   ],
   "source": [
    "listings_categorical_values.get('host_response_time')"
   ]
  },
  {
   "cell_type": "code",
   "execution_count": 37,
   "metadata": {
    "scrolled": true
   },
   "outputs": [
    {
     "data": {
      "text/plain": [
       "['Pacific Heights',\n",
       " 'Western Addition',\n",
       " 'Bernal Heights',\n",
       " 'Haight Ashbury',\n",
       " 'Mission',\n",
       " 'Bayview',\n",
       " 'Nob Hill',\n",
       " 'Castro/Upper Market',\n",
       " 'Potrero Hill',\n",
       " 'Glen Park',\n",
       " 'Outer Richmond',\n",
       " 'Downtown/Civic Center',\n",
       " 'Financial District',\n",
       " 'Outer Sunset',\n",
       " 'Marina',\n",
       " 'Inner Richmond',\n",
       " 'West of Twin Peaks',\n",
       " 'North Beach',\n",
       " 'Inner Sunset',\n",
       " 'Noe Valley',\n",
       " 'Excelsior',\n",
       " 'Outer Mission',\n",
       " 'Chinatown',\n",
       " 'Russian Hill',\n",
       " 'Presidio Heights',\n",
       " 'South of Market',\n",
       " 'Parkside',\n",
       " 'Crocker Amazon',\n",
       " 'Ocean View',\n",
       " 'Twin Peaks',\n",
       " 'Golden Gate Park',\n",
       " 'Presidio',\n",
       " 'Seacliff',\n",
       " 'Lakeshore',\n",
       " 'Diamond Heights',\n",
       " 'Visitacion Valley']"
      ]
     },
     "execution_count": 37,
     "metadata": {},
     "output_type": "execute_result"
    }
   ],
   "source": [
    "listings_categorical_values.get('neighbourhood_cleansed')"
   ]
  },
  {
   "cell_type": "code",
   "execution_count": 38,
   "metadata": {},
   "outputs": [
    {
     "data": {
      "text/plain": [
       "['Private room', 'Entire home/apt', 'Shared room', 'Hotel room']"
      ]
     },
     "execution_count": 38,
     "metadata": {},
     "output_type": "execute_result"
    }
   ],
   "source": [
    "listings_categorical_values.get('room_type')"
   ]
  },
  {
   "cell_type": "code",
   "execution_count": 39,
   "metadata": {},
   "outputs": [],
   "source": [
    "#preprocess acceptance_rate and response_rate columns\n",
    "listings_df[\"host_response_rate\"]=listings_df[\"host_response_rate\"].str.replace('%','')\n",
    "listings_df[\"host_response_rate\"]=pd.to_numeric(listings_df[\"host_response_rate\"])\n",
    "listings_df[\"host_acceptance_rate\"]=listings_df[\"host_acceptance_rate\"].str.replace('%','')\n",
    "listings_df[\"host_acceptance_rate\"]=pd.to_numeric(listings_df[\"host_acceptance_rate\"])"
   ]
  },
  {
   "cell_type": "code",
   "execution_count": 40,
   "metadata": {},
   "outputs": [],
   "source": [
    "#preprocess price column\n",
    "listings_df['price'] = listings_df['price'].str.replace(',','')\n",
    "listings_df['price'] = listings_df['price'].str.replace('$','')\n",
    "listings_df['price'] = listings_df['price'].astype(float)"
   ]
  },
  {
   "cell_type": "code",
   "execution_count": 41,
   "metadata": {},
   "outputs": [],
   "source": [
    "listings_dtype_counts,listings_object_cols,listings_int_cols,listings_float_cols = columns_based_on_dtype(listings_df)"
   ]
  },
  {
   "cell_type": "code",
   "execution_count": 42,
   "metadata": {
    "scrolled": true
   },
   "outputs": [
    {
     "data": {
      "text/plain": [
       "'listings_dtype_counts:'"
      ]
     },
     "metadata": {},
     "output_type": "display_data"
    },
    {
     "data": {
      "text/plain": [
       "float64    10\n",
       "object      8\n",
       "int64       4\n",
       "dtype: int64"
      ]
     },
     "metadata": {},
     "output_type": "display_data"
    },
    {
     "data": {
      "text/plain": [
       "'listings_object_cols:'"
      ]
     },
     "metadata": {},
     "output_type": "display_data"
    },
    {
     "data": {
      "text/plain": [
       "['host_since',\n",
       " 'host_response_time',\n",
       " 'host_is_superhost',\n",
       " 'host_neighbourhood',\n",
       " 'neighbourhood_cleansed',\n",
       " 'property_type',\n",
       " 'room_type',\n",
       " 'amenities']"
      ]
     },
     "metadata": {},
     "output_type": "display_data"
    },
    {
     "data": {
      "text/plain": [
       "'listings_int_cols:'"
      ]
     },
     "metadata": {},
     "output_type": "display_data"
    },
    {
     "data": {
      "text/plain": [
       "['id', 'host_id', 'host_listings_count', 'host_total_listings_count']"
      ]
     },
     "metadata": {},
     "output_type": "display_data"
    },
    {
     "data": {
      "text/plain": [
       "'listings_float_cols:'"
      ]
     },
     "metadata": {},
     "output_type": "display_data"
    },
    {
     "data": {
      "text/plain": [
       "['host_response_rate',\n",
       " 'host_acceptance_rate',\n",
       " 'price',\n",
       " 'review_scores_rating',\n",
       " 'review_scores_accuracy',\n",
       " 'review_scores_cleanliness',\n",
       " 'review_scores_checkin',\n",
       " 'review_scores_communication',\n",
       " 'review_scores_location',\n",
       " 'review_scores_value']"
      ]
     },
     "metadata": {},
     "output_type": "display_data"
    }
   ],
   "source": [
    "display(\"listings_dtype_counts:\",listings_dtype_counts)\n",
    "display('listings_object_cols:',listings_object_cols)\n",
    "display(\"listings_int_cols:\",listings_int_cols)\n",
    "display(\"listings_float_cols:\",listings_float_cols)"
   ]
  },
  {
   "cell_type": "code",
   "execution_count": 43,
   "metadata": {},
   "outputs": [],
   "source": [
    "# converting T and F to 0 and 1\n",
    "listings_df['host_is_superhost'] = listings_df['host_is_superhost'].map({'f':0,'t':1})"
   ]
  },
  {
   "cell_type": "code",
   "execution_count": 44,
   "metadata": {},
   "outputs": [
    {
     "data": {
      "text/html": [
       "<div>\n",
       "<style scoped>\n",
       "    .dataframe tbody tr th:only-of-type {\n",
       "        vertical-align: middle;\n",
       "    }\n",
       "\n",
       "    .dataframe tbody tr th {\n",
       "        vertical-align: top;\n",
       "    }\n",
       "\n",
       "    .dataframe thead th {\n",
       "        text-align: right;\n",
       "    }\n",
       "</style>\n",
       "<table border=\"1\" class=\"dataframe\">\n",
       "  <thead>\n",
       "    <tr style=\"text-align: right;\">\n",
       "      <th></th>\n",
       "      <th>host_since</th>\n",
       "      <th>host_response_time</th>\n",
       "      <th>host_is_superhost</th>\n",
       "      <th>host_neighbourhood</th>\n",
       "      <th>neighbourhood_cleansed</th>\n",
       "      <th>property_type</th>\n",
       "      <th>room_type</th>\n",
       "      <th>amenities</th>\n",
       "    </tr>\n",
       "  </thead>\n",
       "  <tbody>\n",
       "    <tr>\n",
       "      <th>0</th>\n",
       "      <td>2010-08-29</td>\n",
       "      <td>within a few hours</td>\n",
       "      <td>0.0</td>\n",
       "      <td>Pacific Heights</td>\n",
       "      <td>Pacific Heights</td>\n",
       "      <td>Private room in rental unit</td>\n",
       "      <td>Private room</td>\n",
       "      <td>[\"Lock on bedroom door\", \"Essentials\", \"Dryer\"...</td>\n",
       "    </tr>\n",
       "    <tr>\n",
       "      <th>1</th>\n",
       "      <td>2008-07-31</td>\n",
       "      <td>within an hour</td>\n",
       "      <td>1.0</td>\n",
       "      <td>Duboce Triangle</td>\n",
       "      <td>Western Addition</td>\n",
       "      <td>Entire serviced apartment</td>\n",
       "      <td>Entire home/apt</td>\n",
       "      <td>[\"Essentials\", \"Kitchen\", \"Toaster\", \"Free was...</td>\n",
       "    </tr>\n",
       "    <tr>\n",
       "      <th>2</th>\n",
       "      <td>2009-03-02</td>\n",
       "      <td>within a few hours</td>\n",
       "      <td>0.0</td>\n",
       "      <td>Bernal Heights</td>\n",
       "      <td>Bernal Heights</td>\n",
       "      <td>Entire rental unit</td>\n",
       "      <td>Entire home/apt</td>\n",
       "      <td>[\"Essentials\", \"Dryer\", \"Hair dryer\", \"Smoke a...</td>\n",
       "    </tr>\n",
       "    <tr>\n",
       "      <th>3</th>\n",
       "      <td>2009-06-17</td>\n",
       "      <td>within a few hours</td>\n",
       "      <td>0.0</td>\n",
       "      <td>Cole Valley</td>\n",
       "      <td>Haight Ashbury</td>\n",
       "      <td>Private room in rental unit</td>\n",
       "      <td>Private room</td>\n",
       "      <td>[\"Lock on bedroom door\", \"Kitchen\", \"Free stre...</td>\n",
       "    </tr>\n",
       "    <tr>\n",
       "      <th>4</th>\n",
       "      <td>2009-07-02</td>\n",
       "      <td>within a few hours</td>\n",
       "      <td>0.0</td>\n",
       "      <td>Alamo Square</td>\n",
       "      <td>Western Addition</td>\n",
       "      <td>Entire condo</td>\n",
       "      <td>Entire home/apt</td>\n",
       "      <td>[\"Essentials\", \"Kitchen\", \"Toaster\", \"Free str...</td>\n",
       "    </tr>\n",
       "  </tbody>\n",
       "</table>\n",
       "</div>"
      ],
      "text/plain": [
       "   host_since  host_response_time  host_is_superhost host_neighbourhood  \\\n",
       "0  2010-08-29  within a few hours                0.0    Pacific Heights   \n",
       "1  2008-07-31      within an hour                1.0    Duboce Triangle   \n",
       "2  2009-03-02  within a few hours                0.0     Bernal Heights   \n",
       "3  2009-06-17  within a few hours                0.0        Cole Valley   \n",
       "4  2009-07-02  within a few hours                0.0       Alamo Square   \n",
       "\n",
       "  neighbourhood_cleansed                property_type        room_type  \\\n",
       "0        Pacific Heights  Private room in rental unit     Private room   \n",
       "1       Western Addition    Entire serviced apartment  Entire home/apt   \n",
       "2         Bernal Heights           Entire rental unit  Entire home/apt   \n",
       "3         Haight Ashbury  Private room in rental unit     Private room   \n",
       "4       Western Addition                 Entire condo  Entire home/apt   \n",
       "\n",
       "                                           amenities  \n",
       "0  [\"Lock on bedroom door\", \"Essentials\", \"Dryer\"...  \n",
       "1  [\"Essentials\", \"Kitchen\", \"Toaster\", \"Free was...  \n",
       "2  [\"Essentials\", \"Dryer\", \"Hair dryer\", \"Smoke a...  \n",
       "3  [\"Lock on bedroom door\", \"Kitchen\", \"Free stre...  \n",
       "4  [\"Essentials\", \"Kitchen\", \"Toaster\", \"Free str...  "
      ]
     },
     "execution_count": 44,
     "metadata": {},
     "output_type": "execute_result"
    }
   ],
   "source": [
    "listings_df[listings_object_cols].head()"
   ]
  },
  {
   "cell_type": "markdown",
   "metadata": {},
   "source": [
    "Imputation for null values"
   ]
  },
  {
   "cell_type": "markdown",
   "metadata": {},
   "source": [
    "I found NaN values in comments column. As user hasn't given any comments I am considering it as empty string"
   ]
  },
  {
   "cell_type": "code",
   "execution_count": 45,
   "metadata": {},
   "outputs": [],
   "source": [
    "#replacing comments which have Nan with empty strings\n",
    "review_listing_df['comments'].fillna('',inplace = True)"
   ]
  },
  {
   "cell_type": "markdown",
   "metadata": {},
   "source": [
    "I have taken columns which are object type and have filled the empty rows with mode value. To replace NaN for categorical data one of the approach is to use mode "
   ]
  },
  {
   "cell_type": "code",
   "execution_count": 46,
   "metadata": {},
   "outputs": [],
   "source": [
    "# Imputing mode value for categorical data\n",
    "for object_col in listings_object_cols:\n",
    "    listings_df[object_col].fillna(listings_df[object_col].mode()[0],inplace = True)"
   ]
  },
  {
   "cell_type": "markdown",
   "metadata": {},
   "source": [
    "I have filled float and int datatype columns with median as they are numerical and the column would avoid effect of outliers"
   ]
  },
  {
   "cell_type": "code",
   "execution_count": 47,
   "metadata": {},
   "outputs": [],
   "source": [
    "# Imputing median value for float datatype columns\n",
    "for float_col in listings_float_cols:\n",
    "    listings_df[float_col].fillna(listings_df[float_col].median(),inplace = True)"
   ]
  },
  {
   "cell_type": "code",
   "execution_count": 48,
   "metadata": {},
   "outputs": [],
   "source": [
    "# Imputing median value for int datatype columns\n",
    "for int_col in listings_int_cols:\n",
    "    listings_df[int_col].fillna(listings_df[int_col].median(),inplace = True)"
   ]
  },
  {
   "cell_type": "code",
   "execution_count": 49,
   "metadata": {},
   "outputs": [],
   "source": [
    "listings_missing_percent,listings_total_empty_rows,listings_total_empty_columns,listings_col_with_missing_values = missing_value_stats(listings_df)"
   ]
  },
  {
   "cell_type": "code",
   "execution_count": 50,
   "metadata": {},
   "outputs": [
    {
     "data": {
      "text/plain": [
       "{'id': 0.0,\n",
       " 'host_id': 0.0,\n",
       " 'host_since': 0.0,\n",
       " 'host_response_time': 0.0,\n",
       " 'host_response_rate': 0.0,\n",
       " 'host_acceptance_rate': 0.0,\n",
       " 'host_is_superhost': 0.0,\n",
       " 'host_neighbourhood': 0.0,\n",
       " 'host_listings_count': 0.0,\n",
       " 'host_total_listings_count': 0.0,\n",
       " 'neighbourhood_cleansed': 0.0,\n",
       " 'property_type': 0.0,\n",
       " 'room_type': 0.0,\n",
       " 'amenities': 0.0,\n",
       " 'price': 0.0,\n",
       " 'review_scores_rating': 0.0,\n",
       " 'review_scores_accuracy': 0.0,\n",
       " 'review_scores_cleanliness': 0.0,\n",
       " 'review_scores_checkin': 0.0,\n",
       " 'review_scores_communication': 0.0,\n",
       " 'review_scores_location': 0.0,\n",
       " 'review_scores_value': 0.0}"
      ]
     },
     "execution_count": 50,
     "metadata": {},
     "output_type": "execute_result"
    }
   ],
   "source": [
    "listings_missing_percent"
   ]
  },
  {
   "cell_type": "code",
   "execution_count": 51,
   "metadata": {},
   "outputs": [
    {
     "data": {
      "text/html": [
       "<div>\n",
       "<style scoped>\n",
       "    .dataframe tbody tr th:only-of-type {\n",
       "        vertical-align: middle;\n",
       "    }\n",
       "\n",
       "    .dataframe tbody tr th {\n",
       "        vertical-align: top;\n",
       "    }\n",
       "\n",
       "    .dataframe thead th {\n",
       "        text-align: right;\n",
       "    }\n",
       "</style>\n",
       "<table border=\"1\" class=\"dataframe\">\n",
       "  <thead>\n",
       "    <tr style=\"text-align: right;\">\n",
       "      <th></th>\n",
       "      <th>id</th>\n",
       "      <th>host_id</th>\n",
       "      <th>host_since</th>\n",
       "      <th>host_response_time</th>\n",
       "      <th>host_response_rate</th>\n",
       "      <th>host_acceptance_rate</th>\n",
       "      <th>host_is_superhost</th>\n",
       "      <th>host_neighbourhood</th>\n",
       "      <th>host_listings_count</th>\n",
       "      <th>host_total_listings_count</th>\n",
       "      <th>neighbourhood_cleansed</th>\n",
       "      <th>property_type</th>\n",
       "      <th>room_type</th>\n",
       "      <th>amenities</th>\n",
       "      <th>price</th>\n",
       "      <th>review_scores_rating</th>\n",
       "      <th>review_scores_accuracy</th>\n",
       "      <th>review_scores_cleanliness</th>\n",
       "      <th>review_scores_checkin</th>\n",
       "      <th>review_scores_communication</th>\n",
       "      <th>review_scores_location</th>\n",
       "      <th>review_scores_value</th>\n",
       "    </tr>\n",
       "  </thead>\n",
       "  <tbody>\n",
       "    <tr>\n",
       "      <th>0</th>\n",
       "      <td>144978</td>\n",
       "      <td>216682</td>\n",
       "      <td>2010-08-29</td>\n",
       "      <td>within a few hours</td>\n",
       "      <td>100.0</td>\n",
       "      <td>89.0</td>\n",
       "      <td>0.0</td>\n",
       "      <td>Pacific Heights</td>\n",
       "      <td>9</td>\n",
       "      <td>9</td>\n",
       "      <td>Pacific Heights</td>\n",
       "      <td>Private room in rental unit</td>\n",
       "      <td>Private room</td>\n",
       "      <td>[\"Lock on bedroom door\", \"Essentials\", \"Dryer\"...</td>\n",
       "      <td>55.0</td>\n",
       "      <td>4.68</td>\n",
       "      <td>4.78</td>\n",
       "      <td>4.45</td>\n",
       "      <td>4.86</td>\n",
       "      <td>4.81</td>\n",
       "      <td>4.81</td>\n",
       "      <td>4.66</td>\n",
       "    </tr>\n",
       "    <tr>\n",
       "      <th>1</th>\n",
       "      <td>958</td>\n",
       "      <td>1169</td>\n",
       "      <td>2008-07-31</td>\n",
       "      <td>within an hour</td>\n",
       "      <td>100.0</td>\n",
       "      <td>98.0</td>\n",
       "      <td>1.0</td>\n",
       "      <td>Duboce Triangle</td>\n",
       "      <td>1</td>\n",
       "      <td>1</td>\n",
       "      <td>Western Addition</td>\n",
       "      <td>Entire serviced apartment</td>\n",
       "      <td>Entire home/apt</td>\n",
       "      <td>[\"Essentials\", \"Kitchen\", \"Toaster\", \"Free was...</td>\n",
       "      <td>194.0</td>\n",
       "      <td>4.86</td>\n",
       "      <td>4.93</td>\n",
       "      <td>4.92</td>\n",
       "      <td>4.95</td>\n",
       "      <td>4.88</td>\n",
       "      <td>4.98</td>\n",
       "      <td>4.76</td>\n",
       "    </tr>\n",
       "    <tr>\n",
       "      <th>2</th>\n",
       "      <td>5858</td>\n",
       "      <td>8904</td>\n",
       "      <td>2009-03-02</td>\n",
       "      <td>within a few hours</td>\n",
       "      <td>80.0</td>\n",
       "      <td>71.0</td>\n",
       "      <td>0.0</td>\n",
       "      <td>Bernal Heights</td>\n",
       "      <td>2</td>\n",
       "      <td>2</td>\n",
       "      <td>Bernal Heights</td>\n",
       "      <td>Entire rental unit</td>\n",
       "      <td>Entire home/apt</td>\n",
       "      <td>[\"Essentials\", \"Dryer\", \"Hair dryer\", \"Smoke a...</td>\n",
       "      <td>235.0</td>\n",
       "      <td>4.88</td>\n",
       "      <td>4.85</td>\n",
       "      <td>4.87</td>\n",
       "      <td>4.89</td>\n",
       "      <td>4.85</td>\n",
       "      <td>4.77</td>\n",
       "      <td>4.68</td>\n",
       "    </tr>\n",
       "    <tr>\n",
       "      <th>3</th>\n",
       "      <td>8142</td>\n",
       "      <td>21994</td>\n",
       "      <td>2009-06-17</td>\n",
       "      <td>within a few hours</td>\n",
       "      <td>100.0</td>\n",
       "      <td>74.0</td>\n",
       "      <td>0.0</td>\n",
       "      <td>Cole Valley</td>\n",
       "      <td>12</td>\n",
       "      <td>13</td>\n",
       "      <td>Haight Ashbury</td>\n",
       "      <td>Private room in rental unit</td>\n",
       "      <td>Private room</td>\n",
       "      <td>[\"Lock on bedroom door\", \"Kitchen\", \"Free stre...</td>\n",
       "      <td>56.0</td>\n",
       "      <td>4.67</td>\n",
       "      <td>4.44</td>\n",
       "      <td>4.44</td>\n",
       "      <td>4.78</td>\n",
       "      <td>4.78</td>\n",
       "      <td>4.67</td>\n",
       "      <td>4.67</td>\n",
       "    </tr>\n",
       "    <tr>\n",
       "      <th>4</th>\n",
       "      <td>8339</td>\n",
       "      <td>24215</td>\n",
       "      <td>2009-07-02</td>\n",
       "      <td>within a few hours</td>\n",
       "      <td>100.0</td>\n",
       "      <td>0.0</td>\n",
       "      <td>0.0</td>\n",
       "      <td>Alamo Square</td>\n",
       "      <td>2</td>\n",
       "      <td>6</td>\n",
       "      <td>Western Addition</td>\n",
       "      <td>Entire condo</td>\n",
       "      <td>Entire home/apt</td>\n",
       "      <td>[\"Essentials\", \"Kitchen\", \"Toaster\", \"Free str...</td>\n",
       "      <td>575.0</td>\n",
       "      <td>4.87</td>\n",
       "      <td>4.88</td>\n",
       "      <td>5.00</td>\n",
       "      <td>4.94</td>\n",
       "      <td>5.00</td>\n",
       "      <td>4.94</td>\n",
       "      <td>4.75</td>\n",
       "    </tr>\n",
       "    <tr>\n",
       "      <th>5</th>\n",
       "      <td>8739</td>\n",
       "      <td>7149</td>\n",
       "      <td>2009-01-27</td>\n",
       "      <td>within an hour</td>\n",
       "      <td>100.0</td>\n",
       "      <td>89.0</td>\n",
       "      <td>1.0</td>\n",
       "      <td>Mission District</td>\n",
       "      <td>2</td>\n",
       "      <td>2</td>\n",
       "      <td>Mission</td>\n",
       "      <td>Private room in condo</td>\n",
       "      <td>Private room</td>\n",
       "      <td>[\"Essentials\", \"Toaster\", \"Dishwasher\", \"Wine ...</td>\n",
       "      <td>129.0</td>\n",
       "      <td>4.91</td>\n",
       "      <td>4.94</td>\n",
       "      <td>4.94</td>\n",
       "      <td>4.95</td>\n",
       "      <td>4.96</td>\n",
       "      <td>4.93</td>\n",
       "      <td>4.74</td>\n",
       "    </tr>\n",
       "    <tr>\n",
       "      <th>6</th>\n",
       "      <td>10537</td>\n",
       "      <td>36752</td>\n",
       "      <td>2009-09-07</td>\n",
       "      <td>within an hour</td>\n",
       "      <td>100.0</td>\n",
       "      <td>100.0</td>\n",
       "      <td>1.0</td>\n",
       "      <td>Bayview</td>\n",
       "      <td>2</td>\n",
       "      <td>3</td>\n",
       "      <td>Bayview</td>\n",
       "      <td>Private room</td>\n",
       "      <td>Private room</td>\n",
       "      <td>[\"Essentials\", \"Kitchen\", \"Toaster\", \"Free str...</td>\n",
       "      <td>95.0</td>\n",
       "      <td>4.94</td>\n",
       "      <td>4.77</td>\n",
       "      <td>5.00</td>\n",
       "      <td>4.85</td>\n",
       "      <td>5.00</td>\n",
       "      <td>4.08</td>\n",
       "      <td>4.42</td>\n",
       "    </tr>\n",
       "    <tr>\n",
       "      <th>7</th>\n",
       "      <td>10578</td>\n",
       "      <td>37049</td>\n",
       "      <td>2009-09-08</td>\n",
       "      <td>within an hour</td>\n",
       "      <td>100.0</td>\n",
       "      <td>0.0</td>\n",
       "      <td>0.0</td>\n",
       "      <td>Nob Hill</td>\n",
       "      <td>1</td>\n",
       "      <td>2</td>\n",
       "      <td>Nob Hill</td>\n",
       "      <td>Entire rental unit</td>\n",
       "      <td>Entire home/apt</td>\n",
       "      <td>[\"Essentials\", \"Dryer\", \"Hair dryer\", \"Smoke a...</td>\n",
       "      <td>120.0</td>\n",
       "      <td>4.93</td>\n",
       "      <td>4.76</td>\n",
       "      <td>4.94</td>\n",
       "      <td>4.81</td>\n",
       "      <td>4.94</td>\n",
       "      <td>4.82</td>\n",
       "      <td>4.75</td>\n",
       "    </tr>\n",
       "    <tr>\n",
       "      <th>8</th>\n",
       "      <td>11490</td>\n",
       "      <td>42681</td>\n",
       "      <td>2009-10-01</td>\n",
       "      <td>within an hour</td>\n",
       "      <td>100.0</td>\n",
       "      <td>50.0</td>\n",
       "      <td>1.0</td>\n",
       "      <td>Nob Hill</td>\n",
       "      <td>1</td>\n",
       "      <td>1</td>\n",
       "      <td>Nob Hill</td>\n",
       "      <td>Entire condo</td>\n",
       "      <td>Entire home/apt</td>\n",
       "      <td>[\"Essentials\", \"Dryer\", \"Kitchen\", \"Elevator\",...</td>\n",
       "      <td>115.0</td>\n",
       "      <td>4.78</td>\n",
       "      <td>4.94</td>\n",
       "      <td>4.68</td>\n",
       "      <td>4.87</td>\n",
       "      <td>4.90</td>\n",
       "      <td>4.97</td>\n",
       "      <td>4.74</td>\n",
       "    </tr>\n",
       "    <tr>\n",
       "      <th>9</th>\n",
       "      <td>12041</td>\n",
       "      <td>21994</td>\n",
       "      <td>2009-06-17</td>\n",
       "      <td>within a few hours</td>\n",
       "      <td>100.0</td>\n",
       "      <td>74.0</td>\n",
       "      <td>0.0</td>\n",
       "      <td>Cole Valley</td>\n",
       "      <td>12</td>\n",
       "      <td>13</td>\n",
       "      <td>Haight Ashbury</td>\n",
       "      <td>Private room in rental unit</td>\n",
       "      <td>Private room</td>\n",
       "      <td>[\"Lock on bedroom door\", \"Wifi\", \"Dryer\", \"Ded...</td>\n",
       "      <td>65.0</td>\n",
       "      <td>4.00</td>\n",
       "      <td>4.14</td>\n",
       "      <td>4.00</td>\n",
       "      <td>4.43</td>\n",
       "      <td>4.86</td>\n",
       "      <td>4.57</td>\n",
       "      <td>3.71</td>\n",
       "    </tr>\n",
       "  </tbody>\n",
       "</table>\n",
       "</div>"
      ],
      "text/plain": [
       "       id  host_id  host_since  host_response_time  host_response_rate  \\\n",
       "0  144978   216682  2010-08-29  within a few hours               100.0   \n",
       "1     958     1169  2008-07-31      within an hour               100.0   \n",
       "2    5858     8904  2009-03-02  within a few hours                80.0   \n",
       "3    8142    21994  2009-06-17  within a few hours               100.0   \n",
       "4    8339    24215  2009-07-02  within a few hours               100.0   \n",
       "5    8739     7149  2009-01-27      within an hour               100.0   \n",
       "6   10537    36752  2009-09-07      within an hour               100.0   \n",
       "7   10578    37049  2009-09-08      within an hour               100.0   \n",
       "8   11490    42681  2009-10-01      within an hour               100.0   \n",
       "9   12041    21994  2009-06-17  within a few hours               100.0   \n",
       "\n",
       "   host_acceptance_rate  host_is_superhost host_neighbourhood  \\\n",
       "0                  89.0                0.0    Pacific Heights   \n",
       "1                  98.0                1.0    Duboce Triangle   \n",
       "2                  71.0                0.0     Bernal Heights   \n",
       "3                  74.0                0.0        Cole Valley   \n",
       "4                   0.0                0.0       Alamo Square   \n",
       "5                  89.0                1.0   Mission District   \n",
       "6                 100.0                1.0            Bayview   \n",
       "7                   0.0                0.0           Nob Hill   \n",
       "8                  50.0                1.0           Nob Hill   \n",
       "9                  74.0                0.0        Cole Valley   \n",
       "\n",
       "   host_listings_count  host_total_listings_count neighbourhood_cleansed  \\\n",
       "0                    9                          9        Pacific Heights   \n",
       "1                    1                          1       Western Addition   \n",
       "2                    2                          2         Bernal Heights   \n",
       "3                   12                         13         Haight Ashbury   \n",
       "4                    2                          6       Western Addition   \n",
       "5                    2                          2                Mission   \n",
       "6                    2                          3                Bayview   \n",
       "7                    1                          2               Nob Hill   \n",
       "8                    1                          1               Nob Hill   \n",
       "9                   12                         13         Haight Ashbury   \n",
       "\n",
       "                 property_type        room_type  \\\n",
       "0  Private room in rental unit     Private room   \n",
       "1    Entire serviced apartment  Entire home/apt   \n",
       "2           Entire rental unit  Entire home/apt   \n",
       "3  Private room in rental unit     Private room   \n",
       "4                 Entire condo  Entire home/apt   \n",
       "5        Private room in condo     Private room   \n",
       "6                 Private room     Private room   \n",
       "7           Entire rental unit  Entire home/apt   \n",
       "8                 Entire condo  Entire home/apt   \n",
       "9  Private room in rental unit     Private room   \n",
       "\n",
       "                                           amenities  price  \\\n",
       "0  [\"Lock on bedroom door\", \"Essentials\", \"Dryer\"...   55.0   \n",
       "1  [\"Essentials\", \"Kitchen\", \"Toaster\", \"Free was...  194.0   \n",
       "2  [\"Essentials\", \"Dryer\", \"Hair dryer\", \"Smoke a...  235.0   \n",
       "3  [\"Lock on bedroom door\", \"Kitchen\", \"Free stre...   56.0   \n",
       "4  [\"Essentials\", \"Kitchen\", \"Toaster\", \"Free str...  575.0   \n",
       "5  [\"Essentials\", \"Toaster\", \"Dishwasher\", \"Wine ...  129.0   \n",
       "6  [\"Essentials\", \"Kitchen\", \"Toaster\", \"Free str...   95.0   \n",
       "7  [\"Essentials\", \"Dryer\", \"Hair dryer\", \"Smoke a...  120.0   \n",
       "8  [\"Essentials\", \"Dryer\", \"Kitchen\", \"Elevator\",...  115.0   \n",
       "9  [\"Lock on bedroom door\", \"Wifi\", \"Dryer\", \"Ded...   65.0   \n",
       "\n",
       "   review_scores_rating  review_scores_accuracy  review_scores_cleanliness  \\\n",
       "0                  4.68                    4.78                       4.45   \n",
       "1                  4.86                    4.93                       4.92   \n",
       "2                  4.88                    4.85                       4.87   \n",
       "3                  4.67                    4.44                       4.44   \n",
       "4                  4.87                    4.88                       5.00   \n",
       "5                  4.91                    4.94                       4.94   \n",
       "6                  4.94                    4.77                       5.00   \n",
       "7                  4.93                    4.76                       4.94   \n",
       "8                  4.78                    4.94                       4.68   \n",
       "9                  4.00                    4.14                       4.00   \n",
       "\n",
       "   review_scores_checkin  review_scores_communication  review_scores_location  \\\n",
       "0                   4.86                         4.81                    4.81   \n",
       "1                   4.95                         4.88                    4.98   \n",
       "2                   4.89                         4.85                    4.77   \n",
       "3                   4.78                         4.78                    4.67   \n",
       "4                   4.94                         5.00                    4.94   \n",
       "5                   4.95                         4.96                    4.93   \n",
       "6                   4.85                         5.00                    4.08   \n",
       "7                   4.81                         4.94                    4.82   \n",
       "8                   4.87                         4.90                    4.97   \n",
       "9                   4.43                         4.86                    4.57   \n",
       "\n",
       "   review_scores_value  \n",
       "0                 4.66  \n",
       "1                 4.76  \n",
       "2                 4.68  \n",
       "3                 4.67  \n",
       "4                 4.75  \n",
       "5                 4.74  \n",
       "6                 4.42  \n",
       "7                 4.75  \n",
       "8                 4.74  \n",
       "9                 3.71  "
      ]
     },
     "execution_count": 51,
     "metadata": {},
     "output_type": "execute_result"
    }
   ],
   "source": [
    "listings_df.head(10)"
   ]
  },
  {
   "cell_type": "markdown",
   "metadata": {},
   "source": [
    "To understand more about superhosts and not superhosts difference I have created superhost_df and not_superhost_df dataframe for further host analysis"
   ]
  },
  {
   "cell_type": "code",
   "execution_count": 52,
   "metadata": {},
   "outputs": [],
   "source": [
    "# not_superhost_df consists of data where a host is not superhost\n",
    "not_superhost_df = listings_df[listings_df['host_is_superhost']==0]"
   ]
  },
  {
   "cell_type": "code",
   "execution_count": 53,
   "metadata": {},
   "outputs": [
    {
     "data": {
      "text/html": [
       "<div>\n",
       "<style scoped>\n",
       "    .dataframe tbody tr th:only-of-type {\n",
       "        vertical-align: middle;\n",
       "    }\n",
       "\n",
       "    .dataframe tbody tr th {\n",
       "        vertical-align: top;\n",
       "    }\n",
       "\n",
       "    .dataframe thead th {\n",
       "        text-align: right;\n",
       "    }\n",
       "</style>\n",
       "<table border=\"1\" class=\"dataframe\">\n",
       "  <thead>\n",
       "    <tr style=\"text-align: right;\">\n",
       "      <th></th>\n",
       "      <th>id</th>\n",
       "      <th>host_id</th>\n",
       "      <th>host_since</th>\n",
       "      <th>host_response_time</th>\n",
       "      <th>host_response_rate</th>\n",
       "      <th>host_acceptance_rate</th>\n",
       "      <th>host_is_superhost</th>\n",
       "      <th>host_neighbourhood</th>\n",
       "      <th>host_listings_count</th>\n",
       "      <th>host_total_listings_count</th>\n",
       "      <th>neighbourhood_cleansed</th>\n",
       "      <th>property_type</th>\n",
       "      <th>room_type</th>\n",
       "      <th>amenities</th>\n",
       "      <th>price</th>\n",
       "      <th>review_scores_rating</th>\n",
       "      <th>review_scores_accuracy</th>\n",
       "      <th>review_scores_cleanliness</th>\n",
       "      <th>review_scores_checkin</th>\n",
       "      <th>review_scores_communication</th>\n",
       "      <th>review_scores_location</th>\n",
       "      <th>review_scores_value</th>\n",
       "    </tr>\n",
       "  </thead>\n",
       "  <tbody>\n",
       "    <tr>\n",
       "      <th>0</th>\n",
       "      <td>144978</td>\n",
       "      <td>216682</td>\n",
       "      <td>2010-08-29</td>\n",
       "      <td>within a few hours</td>\n",
       "      <td>100.0</td>\n",
       "      <td>89.0</td>\n",
       "      <td>0.0</td>\n",
       "      <td>Pacific Heights</td>\n",
       "      <td>9</td>\n",
       "      <td>9</td>\n",
       "      <td>Pacific Heights</td>\n",
       "      <td>Private room in rental unit</td>\n",
       "      <td>Private room</td>\n",
       "      <td>[\"Lock on bedroom door\", \"Essentials\", \"Dryer\"...</td>\n",
       "      <td>55.0</td>\n",
       "      <td>4.68</td>\n",
       "      <td>4.78</td>\n",
       "      <td>4.45</td>\n",
       "      <td>4.86</td>\n",
       "      <td>4.81</td>\n",
       "      <td>4.81</td>\n",
       "      <td>4.66</td>\n",
       "    </tr>\n",
       "    <tr>\n",
       "      <th>2</th>\n",
       "      <td>5858</td>\n",
       "      <td>8904</td>\n",
       "      <td>2009-03-02</td>\n",
       "      <td>within a few hours</td>\n",
       "      <td>80.0</td>\n",
       "      <td>71.0</td>\n",
       "      <td>0.0</td>\n",
       "      <td>Bernal Heights</td>\n",
       "      <td>2</td>\n",
       "      <td>2</td>\n",
       "      <td>Bernal Heights</td>\n",
       "      <td>Entire rental unit</td>\n",
       "      <td>Entire home/apt</td>\n",
       "      <td>[\"Essentials\", \"Dryer\", \"Hair dryer\", \"Smoke a...</td>\n",
       "      <td>235.0</td>\n",
       "      <td>4.88</td>\n",
       "      <td>4.85</td>\n",
       "      <td>4.87</td>\n",
       "      <td>4.89</td>\n",
       "      <td>4.85</td>\n",
       "      <td>4.77</td>\n",
       "      <td>4.68</td>\n",
       "    </tr>\n",
       "    <tr>\n",
       "      <th>3</th>\n",
       "      <td>8142</td>\n",
       "      <td>21994</td>\n",
       "      <td>2009-06-17</td>\n",
       "      <td>within a few hours</td>\n",
       "      <td>100.0</td>\n",
       "      <td>74.0</td>\n",
       "      <td>0.0</td>\n",
       "      <td>Cole Valley</td>\n",
       "      <td>12</td>\n",
       "      <td>13</td>\n",
       "      <td>Haight Ashbury</td>\n",
       "      <td>Private room in rental unit</td>\n",
       "      <td>Private room</td>\n",
       "      <td>[\"Lock on bedroom door\", \"Kitchen\", \"Free stre...</td>\n",
       "      <td>56.0</td>\n",
       "      <td>4.67</td>\n",
       "      <td>4.44</td>\n",
       "      <td>4.44</td>\n",
       "      <td>4.78</td>\n",
       "      <td>4.78</td>\n",
       "      <td>4.67</td>\n",
       "      <td>4.67</td>\n",
       "    </tr>\n",
       "    <tr>\n",
       "      <th>4</th>\n",
       "      <td>8339</td>\n",
       "      <td>24215</td>\n",
       "      <td>2009-07-02</td>\n",
       "      <td>within a few hours</td>\n",
       "      <td>100.0</td>\n",
       "      <td>0.0</td>\n",
       "      <td>0.0</td>\n",
       "      <td>Alamo Square</td>\n",
       "      <td>2</td>\n",
       "      <td>6</td>\n",
       "      <td>Western Addition</td>\n",
       "      <td>Entire condo</td>\n",
       "      <td>Entire home/apt</td>\n",
       "      <td>[\"Essentials\", \"Kitchen\", \"Toaster\", \"Free str...</td>\n",
       "      <td>575.0</td>\n",
       "      <td>4.87</td>\n",
       "      <td>4.88</td>\n",
       "      <td>5.00</td>\n",
       "      <td>4.94</td>\n",
       "      <td>5.00</td>\n",
       "      <td>4.94</td>\n",
       "      <td>4.75</td>\n",
       "    </tr>\n",
       "    <tr>\n",
       "      <th>7</th>\n",
       "      <td>10578</td>\n",
       "      <td>37049</td>\n",
       "      <td>2009-09-08</td>\n",
       "      <td>within an hour</td>\n",
       "      <td>100.0</td>\n",
       "      <td>0.0</td>\n",
       "      <td>0.0</td>\n",
       "      <td>Nob Hill</td>\n",
       "      <td>1</td>\n",
       "      <td>2</td>\n",
       "      <td>Nob Hill</td>\n",
       "      <td>Entire rental unit</td>\n",
       "      <td>Entire home/apt</td>\n",
       "      <td>[\"Essentials\", \"Dryer\", \"Hair dryer\", \"Smoke a...</td>\n",
       "      <td>120.0</td>\n",
       "      <td>4.93</td>\n",
       "      <td>4.76</td>\n",
       "      <td>4.94</td>\n",
       "      <td>4.81</td>\n",
       "      <td>4.94</td>\n",
       "      <td>4.82</td>\n",
       "      <td>4.75</td>\n",
       "    </tr>\n",
       "  </tbody>\n",
       "</table>\n",
       "</div>"
      ],
      "text/plain": [
       "       id  host_id  host_since  host_response_time  host_response_rate  \\\n",
       "0  144978   216682  2010-08-29  within a few hours               100.0   \n",
       "2    5858     8904  2009-03-02  within a few hours                80.0   \n",
       "3    8142    21994  2009-06-17  within a few hours               100.0   \n",
       "4    8339    24215  2009-07-02  within a few hours               100.0   \n",
       "7   10578    37049  2009-09-08      within an hour               100.0   \n",
       "\n",
       "   host_acceptance_rate  host_is_superhost host_neighbourhood  \\\n",
       "0                  89.0                0.0    Pacific Heights   \n",
       "2                  71.0                0.0     Bernal Heights   \n",
       "3                  74.0                0.0        Cole Valley   \n",
       "4                   0.0                0.0       Alamo Square   \n",
       "7                   0.0                0.0           Nob Hill   \n",
       "\n",
       "   host_listings_count  host_total_listings_count neighbourhood_cleansed  \\\n",
       "0                    9                          9        Pacific Heights   \n",
       "2                    2                          2         Bernal Heights   \n",
       "3                   12                         13         Haight Ashbury   \n",
       "4                    2                          6       Western Addition   \n",
       "7                    1                          2               Nob Hill   \n",
       "\n",
       "                 property_type        room_type  \\\n",
       "0  Private room in rental unit     Private room   \n",
       "2           Entire rental unit  Entire home/apt   \n",
       "3  Private room in rental unit     Private room   \n",
       "4                 Entire condo  Entire home/apt   \n",
       "7           Entire rental unit  Entire home/apt   \n",
       "\n",
       "                                           amenities  price  \\\n",
       "0  [\"Lock on bedroom door\", \"Essentials\", \"Dryer\"...   55.0   \n",
       "2  [\"Essentials\", \"Dryer\", \"Hair dryer\", \"Smoke a...  235.0   \n",
       "3  [\"Lock on bedroom door\", \"Kitchen\", \"Free stre...   56.0   \n",
       "4  [\"Essentials\", \"Kitchen\", \"Toaster\", \"Free str...  575.0   \n",
       "7  [\"Essentials\", \"Dryer\", \"Hair dryer\", \"Smoke a...  120.0   \n",
       "\n",
       "   review_scores_rating  review_scores_accuracy  review_scores_cleanliness  \\\n",
       "0                  4.68                    4.78                       4.45   \n",
       "2                  4.88                    4.85                       4.87   \n",
       "3                  4.67                    4.44                       4.44   \n",
       "4                  4.87                    4.88                       5.00   \n",
       "7                  4.93                    4.76                       4.94   \n",
       "\n",
       "   review_scores_checkin  review_scores_communication  review_scores_location  \\\n",
       "0                   4.86                         4.81                    4.81   \n",
       "2                   4.89                         4.85                    4.77   \n",
       "3                   4.78                         4.78                    4.67   \n",
       "4                   4.94                         5.00                    4.94   \n",
       "7                   4.81                         4.94                    4.82   \n",
       "\n",
       "   review_scores_value  \n",
       "0                 4.66  \n",
       "2                 4.68  \n",
       "3                 4.67  \n",
       "4                 4.75  \n",
       "7                 4.75  "
      ]
     },
     "execution_count": 53,
     "metadata": {},
     "output_type": "execute_result"
    }
   ],
   "source": [
    "not_superhost_df.head(5)"
   ]
  },
  {
   "cell_type": "code",
   "execution_count": 54,
   "metadata": {},
   "outputs": [],
   "source": [
    "# superhost_df consists of data where a host is superhost\n",
    "superhost_df = listings_df[listings_df['host_is_superhost']==1]"
   ]
  },
  {
   "cell_type": "code",
   "execution_count": 55,
   "metadata": {},
   "outputs": [
    {
     "data": {
      "text/html": [
       "<div>\n",
       "<style scoped>\n",
       "    .dataframe tbody tr th:only-of-type {\n",
       "        vertical-align: middle;\n",
       "    }\n",
       "\n",
       "    .dataframe tbody tr th {\n",
       "        vertical-align: top;\n",
       "    }\n",
       "\n",
       "    .dataframe thead th {\n",
       "        text-align: right;\n",
       "    }\n",
       "</style>\n",
       "<table border=\"1\" class=\"dataframe\">\n",
       "  <thead>\n",
       "    <tr style=\"text-align: right;\">\n",
       "      <th></th>\n",
       "      <th>id</th>\n",
       "      <th>host_id</th>\n",
       "      <th>host_since</th>\n",
       "      <th>host_response_time</th>\n",
       "      <th>host_response_rate</th>\n",
       "      <th>host_acceptance_rate</th>\n",
       "      <th>host_is_superhost</th>\n",
       "      <th>host_neighbourhood</th>\n",
       "      <th>host_listings_count</th>\n",
       "      <th>host_total_listings_count</th>\n",
       "      <th>neighbourhood_cleansed</th>\n",
       "      <th>property_type</th>\n",
       "      <th>room_type</th>\n",
       "      <th>amenities</th>\n",
       "      <th>price</th>\n",
       "      <th>review_scores_rating</th>\n",
       "      <th>review_scores_accuracy</th>\n",
       "      <th>review_scores_cleanliness</th>\n",
       "      <th>review_scores_checkin</th>\n",
       "      <th>review_scores_communication</th>\n",
       "      <th>review_scores_location</th>\n",
       "      <th>review_scores_value</th>\n",
       "    </tr>\n",
       "  </thead>\n",
       "  <tbody>\n",
       "    <tr>\n",
       "      <th>1</th>\n",
       "      <td>958</td>\n",
       "      <td>1169</td>\n",
       "      <td>2008-07-31</td>\n",
       "      <td>within an hour</td>\n",
       "      <td>100.0</td>\n",
       "      <td>98.0</td>\n",
       "      <td>1.0</td>\n",
       "      <td>Duboce Triangle</td>\n",
       "      <td>1</td>\n",
       "      <td>1</td>\n",
       "      <td>Western Addition</td>\n",
       "      <td>Entire serviced apartment</td>\n",
       "      <td>Entire home/apt</td>\n",
       "      <td>[\"Essentials\", \"Kitchen\", \"Toaster\", \"Free was...</td>\n",
       "      <td>194.0</td>\n",
       "      <td>4.86</td>\n",
       "      <td>4.93</td>\n",
       "      <td>4.92</td>\n",
       "      <td>4.95</td>\n",
       "      <td>4.88</td>\n",
       "      <td>4.98</td>\n",
       "      <td>4.76</td>\n",
       "    </tr>\n",
       "    <tr>\n",
       "      <th>5</th>\n",
       "      <td>8739</td>\n",
       "      <td>7149</td>\n",
       "      <td>2009-01-27</td>\n",
       "      <td>within an hour</td>\n",
       "      <td>100.0</td>\n",
       "      <td>89.0</td>\n",
       "      <td>1.0</td>\n",
       "      <td>Mission District</td>\n",
       "      <td>2</td>\n",
       "      <td>2</td>\n",
       "      <td>Mission</td>\n",
       "      <td>Private room in condo</td>\n",
       "      <td>Private room</td>\n",
       "      <td>[\"Essentials\", \"Toaster\", \"Dishwasher\", \"Wine ...</td>\n",
       "      <td>129.0</td>\n",
       "      <td>4.91</td>\n",
       "      <td>4.94</td>\n",
       "      <td>4.94</td>\n",
       "      <td>4.95</td>\n",
       "      <td>4.96</td>\n",
       "      <td>4.93</td>\n",
       "      <td>4.74</td>\n",
       "    </tr>\n",
       "    <tr>\n",
       "      <th>6</th>\n",
       "      <td>10537</td>\n",
       "      <td>36752</td>\n",
       "      <td>2009-09-07</td>\n",
       "      <td>within an hour</td>\n",
       "      <td>100.0</td>\n",
       "      <td>100.0</td>\n",
       "      <td>1.0</td>\n",
       "      <td>Bayview</td>\n",
       "      <td>2</td>\n",
       "      <td>3</td>\n",
       "      <td>Bayview</td>\n",
       "      <td>Private room</td>\n",
       "      <td>Private room</td>\n",
       "      <td>[\"Essentials\", \"Kitchen\", \"Toaster\", \"Free str...</td>\n",
       "      <td>95.0</td>\n",
       "      <td>4.94</td>\n",
       "      <td>4.77</td>\n",
       "      <td>5.00</td>\n",
       "      <td>4.85</td>\n",
       "      <td>5.00</td>\n",
       "      <td>4.08</td>\n",
       "      <td>4.42</td>\n",
       "    </tr>\n",
       "    <tr>\n",
       "      <th>8</th>\n",
       "      <td>11490</td>\n",
       "      <td>42681</td>\n",
       "      <td>2009-10-01</td>\n",
       "      <td>within an hour</td>\n",
       "      <td>100.0</td>\n",
       "      <td>50.0</td>\n",
       "      <td>1.0</td>\n",
       "      <td>Nob Hill</td>\n",
       "      <td>1</td>\n",
       "      <td>1</td>\n",
       "      <td>Nob Hill</td>\n",
       "      <td>Entire condo</td>\n",
       "      <td>Entire home/apt</td>\n",
       "      <td>[\"Essentials\", \"Dryer\", \"Kitchen\", \"Elevator\",...</td>\n",
       "      <td>115.0</td>\n",
       "      <td>4.78</td>\n",
       "      <td>4.94</td>\n",
       "      <td>4.68</td>\n",
       "      <td>4.87</td>\n",
       "      <td>4.90</td>\n",
       "      <td>4.97</td>\n",
       "      <td>4.74</td>\n",
       "    </tr>\n",
       "    <tr>\n",
       "      <th>12</th>\n",
       "      <td>18904</td>\n",
       "      <td>72464</td>\n",
       "      <td>2010-01-21</td>\n",
       "      <td>within a day</td>\n",
       "      <td>100.0</td>\n",
       "      <td>73.0</td>\n",
       "      <td>1.0</td>\n",
       "      <td>Lower Haight</td>\n",
       "      <td>2</td>\n",
       "      <td>4</td>\n",
       "      <td>Western Addition</td>\n",
       "      <td>Private room in home</td>\n",
       "      <td>Private room</td>\n",
       "      <td>[\"Essentials\", \"Toaster\", \"Free street parking...</td>\n",
       "      <td>116.0</td>\n",
       "      <td>4.88</td>\n",
       "      <td>4.90</td>\n",
       "      <td>4.94</td>\n",
       "      <td>4.91</td>\n",
       "      <td>4.91</td>\n",
       "      <td>4.90</td>\n",
       "      <td>4.77</td>\n",
       "    </tr>\n",
       "  </tbody>\n",
       "</table>\n",
       "</div>"
      ],
      "text/plain": [
       "       id  host_id  host_since host_response_time  host_response_rate  \\\n",
       "1     958     1169  2008-07-31     within an hour               100.0   \n",
       "5    8739     7149  2009-01-27     within an hour               100.0   \n",
       "6   10537    36752  2009-09-07     within an hour               100.0   \n",
       "8   11490    42681  2009-10-01     within an hour               100.0   \n",
       "12  18904    72464  2010-01-21       within a day               100.0   \n",
       "\n",
       "    host_acceptance_rate  host_is_superhost host_neighbourhood  \\\n",
       "1                   98.0                1.0    Duboce Triangle   \n",
       "5                   89.0                1.0   Mission District   \n",
       "6                  100.0                1.0            Bayview   \n",
       "8                   50.0                1.0           Nob Hill   \n",
       "12                  73.0                1.0       Lower Haight   \n",
       "\n",
       "    host_listings_count  host_total_listings_count neighbourhood_cleansed  \\\n",
       "1                     1                          1       Western Addition   \n",
       "5                     2                          2                Mission   \n",
       "6                     2                          3                Bayview   \n",
       "8                     1                          1               Nob Hill   \n",
       "12                    2                          4       Western Addition   \n",
       "\n",
       "                property_type        room_type  \\\n",
       "1   Entire serviced apartment  Entire home/apt   \n",
       "5       Private room in condo     Private room   \n",
       "6                Private room     Private room   \n",
       "8                Entire condo  Entire home/apt   \n",
       "12       Private room in home     Private room   \n",
       "\n",
       "                                            amenities  price  \\\n",
       "1   [\"Essentials\", \"Kitchen\", \"Toaster\", \"Free was...  194.0   \n",
       "5   [\"Essentials\", \"Toaster\", \"Dishwasher\", \"Wine ...  129.0   \n",
       "6   [\"Essentials\", \"Kitchen\", \"Toaster\", \"Free str...   95.0   \n",
       "8   [\"Essentials\", \"Dryer\", \"Kitchen\", \"Elevator\",...  115.0   \n",
       "12  [\"Essentials\", \"Toaster\", \"Free street parking...  116.0   \n",
       "\n",
       "    review_scores_rating  review_scores_accuracy  review_scores_cleanliness  \\\n",
       "1                   4.86                    4.93                       4.92   \n",
       "5                   4.91                    4.94                       4.94   \n",
       "6                   4.94                    4.77                       5.00   \n",
       "8                   4.78                    4.94                       4.68   \n",
       "12                  4.88                    4.90                       4.94   \n",
       "\n",
       "    review_scores_checkin  review_scores_communication  \\\n",
       "1                    4.95                         4.88   \n",
       "5                    4.95                         4.96   \n",
       "6                    4.85                         5.00   \n",
       "8                    4.87                         4.90   \n",
       "12                   4.91                         4.91   \n",
       "\n",
       "    review_scores_location  review_scores_value  \n",
       "1                     4.98                 4.76  \n",
       "5                     4.93                 4.74  \n",
       "6                     4.08                 4.42  \n",
       "8                     4.97                 4.74  \n",
       "12                    4.90                 4.77  "
      ]
     },
     "execution_count": 55,
     "metadata": {},
     "output_type": "execute_result"
    }
   ],
   "source": [
    "superhost_df.head(5)"
   ]
  },
  {
   "cell_type": "code",
   "execution_count": 56,
   "metadata": {},
   "outputs": [],
   "source": [
    "def lang_detect(text):\n",
    "    '''\n",
    "    Detects and classifies the language of text\n",
    "    Args:\n",
    "        text - string\n",
    "    Return:\n",
    "        lang - string\n",
    "    '''\n",
    "    try:\n",
    "        ans = langid.classify(text)\n",
    "        lang = ans[0]\n",
    "    except:\n",
    "        lang = 'Other'\n",
    "    return lang"
   ]
  },
  {
   "cell_type": "code",
   "execution_count": 57,
   "metadata": {},
   "outputs": [],
   "source": [
    "def polarity_score(text):\n",
    "    '''\n",
    "    Takes text as input to calculate polarity \n",
    "    Args: \n",
    "        text - string\n",
    "    Return:\n",
    "        value - float\n",
    "    '''\n",
    "    value = TextBlob(text).sentiment.polarity\n",
    "    return value"
   ]
  },
  {
   "cell_type": "code",
   "execution_count": 58,
   "metadata": {},
   "outputs": [],
   "source": [
    "def rate_polarity_score(polarity_score):\n",
    "    \"\"\"\n",
    "    Classifies Positive, Negative or Neutral using the polarity score\n",
    "    Args:\n",
    "        polarity_score - float\n",
    "    Return: \n",
    "        Positive, Negative or Neutral\n",
    "    \"\"\"\n",
    "    val =polarity_score\n",
    "    if val == 0:\n",
    "        return \"Neutral\"\n",
    "    elif val <0:\n",
    "        return \"Negative\"\n",
    "    else:\n",
    "        return \"Positive\""
   ]
  },
  {
   "cell_type": "code",
   "execution_count": 87,
   "metadata": {
    "scrolled": true
   },
   "outputs": [],
   "source": [
    "review_listing_df['language'] = review_listing_df[\"comments\"].apply(lambda x: lang_detect(x))"
   ]
  },
  {
   "cell_type": "code",
   "execution_count": 88,
   "metadata": {
    "scrolled": true
   },
   "outputs": [
    {
     "data": {
      "text/plain": [
       "en    311013\n",
       "fr      5397\n",
       "de      3609\n",
       "es      3289\n",
       "zh      2043\n",
       "it      1004\n",
       "ko       947\n",
       "nl       778\n",
       "pt       499\n",
       "ja       365\n",
       "pl       201\n",
       "da       164\n",
       "sv       159\n",
       "ru       123\n",
       "ca        85\n",
       "sl        84\n",
       "no        69\n",
       "ro        66\n",
       "fi        50\n",
       "la        36\n",
       "gl        34\n",
       "he        28\n",
       "cs        24\n",
       "eu        19\n",
       "wa        18\n",
       "vi        17\n",
       "id        16\n",
       "hu        15\n",
       "lt        14\n",
       "hr        13\n",
       "nb        13\n",
       "mt        12\n",
       "oc        11\n",
       "mg        11\n",
       "tr        11\n",
       "dz         9\n",
       "af         8\n",
       "sq         7\n",
       "et         7\n",
       "br         6\n",
       "sk         5\n",
       "th         5\n",
       "am         4\n",
       "hi         4\n",
       "cy         4\n",
       "eo         4\n",
       "el         4\n",
       "nn         4\n",
       "mr         3\n",
       "lv         3\n",
       "ga         3\n",
       "is         3\n",
       "ht         3\n",
       "vo         2\n",
       "ar         2\n",
       "uk         2\n",
       "az         2\n",
       "bn         2\n",
       "ms         2\n",
       "tl         2\n",
       "an         2\n",
       "fa         1\n",
       "sw         1\n",
       "bg         1\n",
       "ps         1\n",
       "pa         1\n",
       "ka         1\n",
       "zu         1\n",
       "lo         1\n",
       "mk         1\n",
       "hy         1\n",
       "Name: language, dtype: int64"
      ]
     },
     "execution_count": 88,
     "metadata": {},
     "output_type": "execute_result"
    }
   ],
   "source": [
    "#understanding the review language counts\n",
    "review_listing_df[\"language\"].value_counts()"
   ]
  },
  {
   "cell_type": "markdown",
   "metadata": {},
   "source": [
    "I have applied polarity score function for comments column to generate sentiment score and rated it positive, negative or neutral using rate_polarit_score function"
   ]
  },
  {
   "cell_type": "code",
   "execution_count": 61,
   "metadata": {},
   "outputs": [],
   "source": [
    "review_listing_df[\"sentiment_score\"] = review_listing_df[\"comments\"].apply(lambda text: polarity_score(text))"
   ]
  },
  {
   "cell_type": "code",
   "execution_count": 62,
   "metadata": {},
   "outputs": [],
   "source": [
    "review_listing_df[\"sentiment\"] = review_listing_df[\"sentiment_score\"].apply(lambda value: rate_polarity_score(value))"
   ]
  },
  {
   "cell_type": "markdown",
   "metadata": {},
   "source": [
    "Seperated positive review data and negative review data for analysis"
   ]
  },
  {
   "cell_type": "code",
   "execution_count": 63,
   "metadata": {},
   "outputs": [],
   "source": [
    "positive_review_df = review_listing_df[review_listing_df[\"sentiment\"] == \"Positive\"]"
   ]
  },
  {
   "cell_type": "code",
   "execution_count": 64,
   "metadata": {},
   "outputs": [],
   "source": [
    "negative_review_df = review_listing_df[review_listing_df[\"sentiment\"] == \"Negative\"]"
   ]
  },
  {
   "cell_type": "markdown",
   "metadata": {},
   "source": [
    "# Analyze"
   ]
  },
  {
   "cell_type": "markdown",
   "metadata": {},
   "source": [
    "# Which neighborhood has most number of listings?"
   ]
  },
  {
   "cell_type": "markdown",
   "metadata": {},
   "source": [
    "To address the most number of listings we need to know which neighbourhood has it. So, I have grouped neighbourhood and id for having count on number of listings per neighborhood and plotted graph to visualize it"
   ]
  },
  {
   "cell_type": "code",
   "execution_count": 65,
   "metadata": {},
   "outputs": [],
   "source": [
    "neighborhood_listings_count =  listings_df.groupby(['neighbourhood_cleansed'])[\"id\"].count().sort_values(ascending=False)"
   ]
  },
  {
   "cell_type": "code",
   "execution_count": 66,
   "metadata": {},
   "outputs": [
    {
     "data": {
      "text/plain": [
       "<matplotlib.axes._subplots.AxesSubplot at 0x2a03e7b3730>"
      ]
     },
     "execution_count": 66,
     "metadata": {},
     "output_type": "execute_result"
    },
    {
     "data": {
      "image/png": "[encoded data removed]",
      "text/plain": [
       "<Figure size 1440x720 with 1 Axes>"
      ]
     },
     "metadata": {
      "needs_background": "light"
     },
     "output_type": "display_data"
    }
   ],
   "source": [
    "neighborhood_listings_count.plot(kind = 'bar', figsize=(20, 10),fontsize = 20)"
   ]
  },
  {
   "cell_type": "markdown",
   "metadata": {},
   "source": [
    "Finding:"
   ]
  },
  {
   "cell_type": "markdown",
   "metadata": {},
   "source": [
    "Looking at the above graph we can understand that Downtown/Civic Center has more number of listings"
   ]
  },
  {
   "cell_type": "markdown",
   "metadata": {},
   "source": [
    "# Which neighborhood has highest host response rate and acceptance rate?"
   ]
  },
  {
   "cell_type": "markdown",
   "metadata": {},
   "source": [
    "To understand which neighbourhood have highest response rate. I grouped neighbourhood and host_response_rate by taking mean of host_response_rate so we can understand what is the average host_response_rate per neighbourhood "
   ]
  },
  {
   "cell_type": "code",
   "execution_count": 67,
   "metadata": {},
   "outputs": [],
   "source": [
    "neighborhood_response_rate = listings_df.groupby(['neighbourhood_cleansed'])[\"host_response_rate\"].mean().sort_values(ascending=False)"
   ]
  },
  {
   "cell_type": "code",
   "execution_count": 68,
   "metadata": {},
   "outputs": [
    {
     "data": {
      "text/plain": [
       "<matplotlib.axes._subplots.AxesSubplot at 0x2a0377976d0>"
      ]
     },
     "execution_count": 68,
     "metadata": {},
     "output_type": "execute_result"
    },
    {
     "data": {
      "image/png": "[encoded data removed]",
      "text/plain": [
       "<Figure size 1440x720 with 1 Axes>"
      ]
     },
     "metadata": {
      "needs_background": "light"
     },
     "output_type": "display_data"
    }
   ],
   "source": [
    "neighborhood_response_rate.plot(kind = 'bar', figsize=(20, 10),fontsize = 20)"
   ]
  },
  {
   "cell_type": "markdown",
   "metadata": {},
   "source": [
    "Finding:"
   ]
  },
  {
   "cell_type": "markdown",
   "metadata": {},
   "source": [
    "We can see that almost all the neighborhoods have similar kind of host response rate. Diamond Heights, Seacliff, Golden Gate Park,Presido and Parkside lead the graph"
   ]
  },
  {
   "cell_type": "markdown",
   "metadata": {},
   "source": [
    "To understand which neighbourhood have highest acceptance rate. I grouped neighbourhood and host_acceptance_rate by taking mean of host_acceptance_rate so we can understand what is the average host_acceptance_rate per neighbourhood "
   ]
  },
  {
   "cell_type": "code",
   "execution_count": 69,
   "metadata": {},
   "outputs": [],
   "source": [
    "neighborhood_acceptance_rate = listings_df.groupby(['neighbourhood_cleansed'])[\"host_acceptance_rate\"].mean().sort_values(ascending=False)"
   ]
  },
  {
   "cell_type": "code",
   "execution_count": 70,
   "metadata": {
    "scrolled": false
   },
   "outputs": [
    {
     "data": {
      "text/plain": [
       "<matplotlib.axes._subplots.AxesSubplot at 0x2a037a87d00>"
      ]
     },
     "execution_count": 70,
     "metadata": {},
     "output_type": "execute_result"
    },
    {
     "data": {
      "image/png": "[encoded data removed]",
      "text/plain": [
       "<Figure size 1440x720 with 1 Axes>"
      ]
     },
     "metadata": {
      "needs_background": "light"
     },
     "output_type": "display_data"
    }
   ],
   "source": [
    "neighborhood_acceptance_rate.plot(kind = 'bar', figsize=(20, 10),fontsize = 20)"
   ]
  },
  {
   "cell_type": "markdown",
   "metadata": {},
   "source": [
    "Finding:"
   ]
  },
  {
   "cell_type": "markdown",
   "metadata": {},
   "source": [
    "Looking at both the graphs we can understand Seacliff has highest acceptance and highest response rate.\n",
    "Understanding the listings graph we could see that Seacliff is one of the neighborhoods which have lowest listings"
   ]
  },
  {
   "cell_type": "markdown",
   "metadata": {},
   "source": [
    "# How are superhosts performing than other hosts in response?"
   ]
  },
  {
   "cell_type": "markdown",
   "metadata": {},
   "source": [
    "I have grouped number of hosts with respect to host_response_time to categorize how many superhosts and not superhosts are giving response "
   ]
  },
  {
   "cell_type": "code",
   "execution_count": 71,
   "metadata": {},
   "outputs": [
    {
     "data": {
      "text/plain": [
       "<matplotlib.axes._subplots.AxesSubplot at 0x2a03e656d60>"
      ]
     },
     "execution_count": 71,
     "metadata": {},
     "output_type": "execute_result"
    },
    {
     "data": {
      "image/png": "[encoded data removed]",
      "text/plain": [
       "<Figure size 1440x720 with 1 Axes>"
      ]
     },
     "metadata": {
      "needs_background": "light"
     },
     "output_type": "display_data"
    }
   ],
   "source": [
    "listings_df['host_is_superhost'].value_counts().plot(kind='bar', title='Super hosts and hosts count',figsize=(20, 10),fontsize = 20)"
   ]
  },
  {
   "cell_type": "code",
   "execution_count": 72,
   "metadata": {},
   "outputs": [
    {
     "data": {
      "text/plain": [
       "<matplotlib.axes._subplots.AxesSubplot at 0x2a037392460>"
      ]
     },
     "execution_count": 72,
     "metadata": {},
     "output_type": "execute_result"
    },
    {
     "data": {
      "image/png": "[encoded data removed]",
      "text/plain": [
       "<Figure size 432x288 with 1 Axes>"
      ]
     },
     "metadata": {
      "needs_background": "light"
     },
     "output_type": "display_data"
    }
   ],
   "source": [
    "superhost_df.groupby([\"host_response_time\"])[\"host_id\"].count().sort_values(ascending = False).plot(kind='bar',fontsize = 20)"
   ]
  },
  {
   "cell_type": "code",
   "execution_count": 73,
   "metadata": {},
   "outputs": [
    {
     "data": {
      "text/html": [
       "<div>\n",
       "<style scoped>\n",
       "    .dataframe tbody tr th:only-of-type {\n",
       "        vertical-align: middle;\n",
       "    }\n",
       "\n",
       "    .dataframe tbody tr th {\n",
       "        vertical-align: top;\n",
       "    }\n",
       "\n",
       "    .dataframe thead th {\n",
       "        text-align: right;\n",
       "    }\n",
       "</style>\n",
       "<table border=\"1\" class=\"dataframe\">\n",
       "  <thead>\n",
       "    <tr style=\"text-align: right;\">\n",
       "      <th></th>\n",
       "      <th>host_response_time</th>\n",
       "      <th>host_id</th>\n",
       "    </tr>\n",
       "  </thead>\n",
       "  <tbody>\n",
       "    <tr>\n",
       "      <th>0</th>\n",
       "      <td>within an hour</td>\n",
       "      <td>2027</td>\n",
       "    </tr>\n",
       "    <tr>\n",
       "      <th>1</th>\n",
       "      <td>within a few hours</td>\n",
       "      <td>532</td>\n",
       "    </tr>\n",
       "    <tr>\n",
       "      <th>2</th>\n",
       "      <td>within a day</td>\n",
       "      <td>158</td>\n",
       "    </tr>\n",
       "    <tr>\n",
       "      <th>3</th>\n",
       "      <td>a few days or more</td>\n",
       "      <td>9</td>\n",
       "    </tr>\n",
       "  </tbody>\n",
       "</table>\n",
       "</div>"
      ],
      "text/plain": [
       "   host_response_time  host_id\n",
       "0      within an hour     2027\n",
       "1  within a few hours      532\n",
       "2        within a day      158\n",
       "3  a few days or more        9"
      ]
     },
     "execution_count": 73,
     "metadata": {},
     "output_type": "execute_result"
    }
   ],
   "source": [
    "pd.DataFrame(superhost_df.groupby([\"host_response_time\"])[\"host_id\"].count().sort_values(ascending = False)).reset_index()"
   ]
  },
  {
   "cell_type": "code",
   "execution_count": 74,
   "metadata": {},
   "outputs": [
    {
     "data": {
      "text/plain": [
       "<matplotlib.axes._subplots.AxesSubplot at 0x2a03e6973d0>"
      ]
     },
     "execution_count": 74,
     "metadata": {},
     "output_type": "execute_result"
    },
    {
     "data": {
      "image/png": "[encoded data removed]",
      "text/plain": [
       "<Figure size 432x288 with 1 Axes>"
      ]
     },
     "metadata": {
      "needs_background": "light"
     },
     "output_type": "display_data"
    }
   ],
   "source": [
    "not_superhost_df.groupby([\"host_response_time\"])[\"host_id\"].count().sort_values(ascending = False).plot(kind='bar',fontsize = 20)"
   ]
  },
  {
   "cell_type": "code",
   "execution_count": 75,
   "metadata": {},
   "outputs": [
    {
     "data": {
      "text/html": [
       "<div>\n",
       "<style scoped>\n",
       "    .dataframe tbody tr th:only-of-type {\n",
       "        vertical-align: middle;\n",
       "    }\n",
       "\n",
       "    .dataframe tbody tr th {\n",
       "        vertical-align: top;\n",
       "    }\n",
       "\n",
       "    .dataframe thead th {\n",
       "        text-align: right;\n",
       "    }\n",
       "</style>\n",
       "<table border=\"1\" class=\"dataframe\">\n",
       "  <thead>\n",
       "    <tr style=\"text-align: right;\">\n",
       "      <th></th>\n",
       "      <th>host_response_time</th>\n",
       "      <th>host_id</th>\n",
       "    </tr>\n",
       "  </thead>\n",
       "  <tbody>\n",
       "    <tr>\n",
       "      <th>0</th>\n",
       "      <td>within an hour</td>\n",
       "      <td>3051</td>\n",
       "    </tr>\n",
       "    <tr>\n",
       "      <th>1</th>\n",
       "      <td>within a few hours</td>\n",
       "      <td>604</td>\n",
       "    </tr>\n",
       "    <tr>\n",
       "      <th>2</th>\n",
       "      <td>within a day</td>\n",
       "      <td>356</td>\n",
       "    </tr>\n",
       "    <tr>\n",
       "      <th>3</th>\n",
       "      <td>a few days or more</td>\n",
       "      <td>52</td>\n",
       "    </tr>\n",
       "  </tbody>\n",
       "</table>\n",
       "</div>"
      ],
      "text/plain": [
       "   host_response_time  host_id\n",
       "0      within an hour     3051\n",
       "1  within a few hours      604\n",
       "2        within a day      356\n",
       "3  a few days or more       52"
      ]
     },
     "execution_count": 75,
     "metadata": {},
     "output_type": "execute_result"
    }
   ],
   "source": [
    "pd.DataFrame(not_superhost_df.groupby([\"host_response_time\"])[\"host_id\"].count().sort_values(ascending = False)).reset_index()"
   ]
  },
  {
   "cell_type": "markdown",
   "metadata": {},
   "source": [
    "Finding:"
   ]
  },
  {
   "cell_type": "markdown",
   "metadata": {},
   "source": [
    "Looking at the graphs we could see that both the superhosts and not super hosts are on similar rate in response time"
   ]
  },
  {
   "cell_type": "code",
   "execution_count": 76,
   "metadata": {},
   "outputs": [
    {
     "data": {
      "text/html": [
       "<div>\n",
       "<style scoped>\n",
       "    .dataframe tbody tr th:only-of-type {\n",
       "        vertical-align: middle;\n",
       "    }\n",
       "\n",
       "    .dataframe tbody tr th {\n",
       "        vertical-align: top;\n",
       "    }\n",
       "\n",
       "    .dataframe thead th {\n",
       "        text-align: right;\n",
       "    }\n",
       "</style>\n",
       "<table border=\"1\" class=\"dataframe\">\n",
       "  <thead>\n",
       "    <tr style=\"text-align: right;\">\n",
       "      <th></th>\n",
       "      <th>host_response_rate</th>\n",
       "      <th>host_acceptance_rate</th>\n",
       "      <th>host_total_listings_count</th>\n",
       "      <th>review_scores_rating</th>\n",
       "      <th>review_scores_accuracy</th>\n",
       "      <th>review_scores_cleanliness</th>\n",
       "      <th>review_scores_checkin</th>\n",
       "      <th>review_scores_communication</th>\n",
       "      <th>review_scores_location</th>\n",
       "      <th>review_scores_value</th>\n",
       "      <th>price</th>\n",
       "    </tr>\n",
       "  </thead>\n",
       "  <tbody>\n",
       "    <tr>\n",
       "      <th>count</th>\n",
       "      <td>2726.000000</td>\n",
       "      <td>2726.000000</td>\n",
       "      <td>2726.000000</td>\n",
       "      <td>2726.000000</td>\n",
       "      <td>2726.000000</td>\n",
       "      <td>2726.000000</td>\n",
       "      <td>2726.000000</td>\n",
       "      <td>2726.000000</td>\n",
       "      <td>2726.000000</td>\n",
       "      <td>2726.000000</td>\n",
       "      <td>2726.000000</td>\n",
       "    </tr>\n",
       "    <tr>\n",
       "      <th>mean</th>\n",
       "      <td>98.895084</td>\n",
       "      <td>91.304842</td>\n",
       "      <td>32.477256</td>\n",
       "      <td>4.888074</td>\n",
       "      <td>4.907887</td>\n",
       "      <td>4.880664</td>\n",
       "      <td>4.941816</td>\n",
       "      <td>4.941456</td>\n",
       "      <td>4.865297</td>\n",
       "      <td>4.771137</td>\n",
       "      <td>220.892517</td>\n",
       "    </tr>\n",
       "    <tr>\n",
       "      <th>std</th>\n",
       "      <td>5.753786</td>\n",
       "      <td>14.352952</td>\n",
       "      <td>87.097406</td>\n",
       "      <td>0.155295</td>\n",
       "      <td>0.160117</td>\n",
       "      <td>0.176561</td>\n",
       "      <td>0.122012</td>\n",
       "      <td>0.128705</td>\n",
       "      <td>0.193270</td>\n",
       "      <td>0.209371</td>\n",
       "      <td>244.619035</td>\n",
       "    </tr>\n",
       "    <tr>\n",
       "      <th>min</th>\n",
       "      <td>0.000000</td>\n",
       "      <td>16.000000</td>\n",
       "      <td>1.000000</td>\n",
       "      <td>3.000000</td>\n",
       "      <td>3.000000</td>\n",
       "      <td>3.000000</td>\n",
       "      <td>3.500000</td>\n",
       "      <td>3.000000</td>\n",
       "      <td>2.000000</td>\n",
       "      <td>2.670000</td>\n",
       "      <td>0.000000</td>\n",
       "    </tr>\n",
       "    <tr>\n",
       "      <th>25%</th>\n",
       "      <td>100.000000</td>\n",
       "      <td>88.000000</td>\n",
       "      <td>2.000000</td>\n",
       "      <td>4.850000</td>\n",
       "      <td>4.890000</td>\n",
       "      <td>4.850000</td>\n",
       "      <td>4.930000</td>\n",
       "      <td>4.940000</td>\n",
       "      <td>4.820000</td>\n",
       "      <td>4.710000</td>\n",
       "      <td>101.000000</td>\n",
       "    </tr>\n",
       "    <tr>\n",
       "      <th>50%</th>\n",
       "      <td>100.000000</td>\n",
       "      <td>98.000000</td>\n",
       "      <td>4.000000</td>\n",
       "      <td>4.920000</td>\n",
       "      <td>4.940000</td>\n",
       "      <td>4.930000</td>\n",
       "      <td>4.980000</td>\n",
       "      <td>4.980000</td>\n",
       "      <td>4.900000</td>\n",
       "      <td>4.800000</td>\n",
       "      <td>153.000000</td>\n",
       "    </tr>\n",
       "    <tr>\n",
       "      <th>75%</th>\n",
       "      <td>100.000000</td>\n",
       "      <td>100.000000</td>\n",
       "      <td>10.000000</td>\n",
       "      <td>5.000000</td>\n",
       "      <td>5.000000</td>\n",
       "      <td>5.000000</td>\n",
       "      <td>5.000000</td>\n",
       "      <td>5.000000</td>\n",
       "      <td>5.000000</td>\n",
       "      <td>4.890000</td>\n",
       "      <td>249.000000</td>\n",
       "    </tr>\n",
       "    <tr>\n",
       "      <th>max</th>\n",
       "      <td>100.000000</td>\n",
       "      <td>100.000000</td>\n",
       "      <td>796.000000</td>\n",
       "      <td>5.000000</td>\n",
       "      <td>5.000000</td>\n",
       "      <td>5.000000</td>\n",
       "      <td>5.000000</td>\n",
       "      <td>5.000000</td>\n",
       "      <td>5.000000</td>\n",
       "      <td>5.000000</td>\n",
       "      <td>3500.000000</td>\n",
       "    </tr>\n",
       "  </tbody>\n",
       "</table>\n",
       "</div>"
      ],
      "text/plain": [
       "       host_response_rate  host_acceptance_rate  host_total_listings_count  \\\n",
       "count         2726.000000           2726.000000                2726.000000   \n",
       "mean            98.895084             91.304842                  32.477256   \n",
       "std              5.753786             14.352952                  87.097406   \n",
       "min              0.000000             16.000000                   1.000000   \n",
       "25%            100.000000             88.000000                   2.000000   \n",
       "50%            100.000000             98.000000                   4.000000   \n",
       "75%            100.000000            100.000000                  10.000000   \n",
       "max            100.000000            100.000000                 796.000000   \n",
       "\n",
       "       review_scores_rating  review_scores_accuracy  \\\n",
       "count           2726.000000             2726.000000   \n",
       "mean               4.888074                4.907887   \n",
       "std                0.155295                0.160117   \n",
       "min                3.000000                3.000000   \n",
       "25%                4.850000                4.890000   \n",
       "50%                4.920000                4.940000   \n",
       "75%                5.000000                5.000000   \n",
       "max                5.000000                5.000000   \n",
       "\n",
       "       review_scores_cleanliness  review_scores_checkin  \\\n",
       "count                2726.000000            2726.000000   \n",
       "mean                    4.880664               4.941816   \n",
       "std                     0.176561               0.122012   \n",
       "min                     3.000000               3.500000   \n",
       "25%                     4.850000               4.930000   \n",
       "50%                     4.930000               4.980000   \n",
       "75%                     5.000000               5.000000   \n",
       "max                     5.000000               5.000000   \n",
       "\n",
       "       review_scores_communication  review_scores_location  \\\n",
       "count                  2726.000000             2726.000000   \n",
       "mean                      4.941456                4.865297   \n",
       "std                       0.128705                0.193270   \n",
       "min                       3.000000                2.000000   \n",
       "25%                       4.940000                4.820000   \n",
       "50%                       4.980000                4.900000   \n",
       "75%                       5.000000                5.000000   \n",
       "max                       5.000000                5.000000   \n",
       "\n",
       "       review_scores_value        price  \n",
       "count          2726.000000  2726.000000  \n",
       "mean              4.771137   220.892517  \n",
       "std               0.209371   244.619035  \n",
       "min               2.670000     0.000000  \n",
       "25%               4.710000   101.000000  \n",
       "50%               4.800000   153.000000  \n",
       "75%               4.890000   249.000000  \n",
       "max               5.000000  3500.000000  "
      ]
     },
     "execution_count": 76,
     "metadata": {},
     "output_type": "execute_result"
    }
   ],
   "source": [
    "superhost_df[['host_response_rate','host_acceptance_rate',\n",
    "        'host_total_listings_count','review_scores_rating',\n",
    "        'review_scores_accuracy','review_scores_cleanliness',\n",
    "       'review_scores_checkin', 'review_scores_communication',\n",
    "       'review_scores_location', 'review_scores_value','price']].describe()"
   ]
  },
  {
   "cell_type": "code",
   "execution_count": 77,
   "metadata": {},
   "outputs": [
    {
     "data": {
      "text/html": [
       "<div>\n",
       "<style scoped>\n",
       "    .dataframe tbody tr th:only-of-type {\n",
       "        vertical-align: middle;\n",
       "    }\n",
       "\n",
       "    .dataframe tbody tr th {\n",
       "        vertical-align: top;\n",
       "    }\n",
       "\n",
       "    .dataframe thead th {\n",
       "        text-align: right;\n",
       "    }\n",
       "</style>\n",
       "<table border=\"1\" class=\"dataframe\">\n",
       "  <thead>\n",
       "    <tr style=\"text-align: right;\">\n",
       "      <th></th>\n",
       "      <th>host_response_rate</th>\n",
       "      <th>host_acceptance_rate</th>\n",
       "      <th>host_total_listings_count</th>\n",
       "      <th>review_scores_rating</th>\n",
       "      <th>review_scores_accuracy</th>\n",
       "      <th>review_scores_cleanliness</th>\n",
       "      <th>review_scores_checkin</th>\n",
       "      <th>review_scores_communication</th>\n",
       "      <th>review_scores_location</th>\n",
       "      <th>review_scores_value</th>\n",
       "      <th>price</th>\n",
       "    </tr>\n",
       "  </thead>\n",
       "  <tbody>\n",
       "    <tr>\n",
       "      <th>count</th>\n",
       "      <td>4063.000000</td>\n",
       "      <td>4063.000000</td>\n",
       "      <td>4063.000000</td>\n",
       "      <td>4063.000000</td>\n",
       "      <td>4063.000000</td>\n",
       "      <td>4063.000000</td>\n",
       "      <td>4063.000000</td>\n",
       "      <td>4063.000000</td>\n",
       "      <td>4063.000000</td>\n",
       "      <td>4063.000000</td>\n",
       "      <td>4063.000000</td>\n",
       "    </tr>\n",
       "    <tr>\n",
       "      <th>mean</th>\n",
       "      <td>96.270736</td>\n",
       "      <td>87.220773</td>\n",
       "      <td>253.159734</td>\n",
       "      <td>4.700785</td>\n",
       "      <td>4.789225</td>\n",
       "      <td>4.738742</td>\n",
       "      <td>4.870098</td>\n",
       "      <td>4.831095</td>\n",
       "      <td>4.773456</td>\n",
       "      <td>4.621730</td>\n",
       "      <td>300.790795</td>\n",
       "    </tr>\n",
       "    <tr>\n",
       "      <th>std</th>\n",
       "      <td>12.217484</td>\n",
       "      <td>22.997351</td>\n",
       "      <td>1027.091877</td>\n",
       "      <td>0.562353</td>\n",
       "      <td>0.433250</td>\n",
       "      <td>0.451934</td>\n",
       "      <td>0.350850</td>\n",
       "      <td>0.428207</td>\n",
       "      <td>0.424666</td>\n",
       "      <td>0.479387</td>\n",
       "      <td>1203.970405</td>\n",
       "    </tr>\n",
       "    <tr>\n",
       "      <th>min</th>\n",
       "      <td>0.000000</td>\n",
       "      <td>0.000000</td>\n",
       "      <td>1.000000</td>\n",
       "      <td>0.000000</td>\n",
       "      <td>0.000000</td>\n",
       "      <td>0.000000</td>\n",
       "      <td>0.000000</td>\n",
       "      <td>1.000000</td>\n",
       "      <td>0.000000</td>\n",
       "      <td>0.000000</td>\n",
       "      <td>0.000000</td>\n",
       "    </tr>\n",
       "    <tr>\n",
       "      <th>25%</th>\n",
       "      <td>100.000000</td>\n",
       "      <td>90.000000</td>\n",
       "      <td>2.000000</td>\n",
       "      <td>4.670000</td>\n",
       "      <td>4.780000</td>\n",
       "      <td>4.680000</td>\n",
       "      <td>4.890000</td>\n",
       "      <td>4.860000</td>\n",
       "      <td>4.780000</td>\n",
       "      <td>4.550000</td>\n",
       "      <td>96.000000</td>\n",
       "    </tr>\n",
       "    <tr>\n",
       "      <th>50%</th>\n",
       "      <td>100.000000</td>\n",
       "      <td>97.000000</td>\n",
       "      <td>6.000000</td>\n",
       "      <td>4.900000</td>\n",
       "      <td>4.930000</td>\n",
       "      <td>4.910000</td>\n",
       "      <td>4.980000</td>\n",
       "      <td>4.980000</td>\n",
       "      <td>4.900000</td>\n",
       "      <td>4.760000</td>\n",
       "      <td>149.000000</td>\n",
       "    </tr>\n",
       "    <tr>\n",
       "      <th>75%</th>\n",
       "      <td>100.000000</td>\n",
       "      <td>100.000000</td>\n",
       "      <td>30.000000</td>\n",
       "      <td>4.960000</td>\n",
       "      <td>5.000000</td>\n",
       "      <td>4.990000</td>\n",
       "      <td>5.000000</td>\n",
       "      <td>5.000000</td>\n",
       "      <td>5.000000</td>\n",
       "      <td>4.810000</td>\n",
       "      <td>250.000000</td>\n",
       "    </tr>\n",
       "    <tr>\n",
       "      <th>max</th>\n",
       "      <td>100.000000</td>\n",
       "      <td>100.000000</td>\n",
       "      <td>7328.000000</td>\n",
       "      <td>5.000000</td>\n",
       "      <td>5.000000</td>\n",
       "      <td>5.000000</td>\n",
       "      <td>5.000000</td>\n",
       "      <td>5.000000</td>\n",
       "      <td>5.000000</td>\n",
       "      <td>5.000000</td>\n",
       "      <td>25000.000000</td>\n",
       "    </tr>\n",
       "  </tbody>\n",
       "</table>\n",
       "</div>"
      ],
      "text/plain": [
       "       host_response_rate  host_acceptance_rate  host_total_listings_count  \\\n",
       "count         4063.000000           4063.000000                4063.000000   \n",
       "mean            96.270736             87.220773                 253.159734   \n",
       "std             12.217484             22.997351                1027.091877   \n",
       "min              0.000000              0.000000                   1.000000   \n",
       "25%            100.000000             90.000000                   2.000000   \n",
       "50%            100.000000             97.000000                   6.000000   \n",
       "75%            100.000000            100.000000                  30.000000   \n",
       "max            100.000000            100.000000                7328.000000   \n",
       "\n",
       "       review_scores_rating  review_scores_accuracy  \\\n",
       "count           4063.000000             4063.000000   \n",
       "mean               4.700785                4.789225   \n",
       "std                0.562353                0.433250   \n",
       "min                0.000000                0.000000   \n",
       "25%                4.670000                4.780000   \n",
       "50%                4.900000                4.930000   \n",
       "75%                4.960000                5.000000   \n",
       "max                5.000000                5.000000   \n",
       "\n",
       "       review_scores_cleanliness  review_scores_checkin  \\\n",
       "count                4063.000000            4063.000000   \n",
       "mean                    4.738742               4.870098   \n",
       "std                     0.451934               0.350850   \n",
       "min                     0.000000               0.000000   \n",
       "25%                     4.680000               4.890000   \n",
       "50%                     4.910000               4.980000   \n",
       "75%                     4.990000               5.000000   \n",
       "max                     5.000000               5.000000   \n",
       "\n",
       "       review_scores_communication  review_scores_location  \\\n",
       "count                  4063.000000             4063.000000   \n",
       "mean                      4.831095                4.773456   \n",
       "std                       0.428207                0.424666   \n",
       "min                       1.000000                0.000000   \n",
       "25%                       4.860000                4.780000   \n",
       "50%                       4.980000                4.900000   \n",
       "75%                       5.000000                5.000000   \n",
       "max                       5.000000                5.000000   \n",
       "\n",
       "       review_scores_value         price  \n",
       "count          4063.000000   4063.000000  \n",
       "mean              4.621730    300.790795  \n",
       "std               0.479387   1203.970405  \n",
       "min               0.000000      0.000000  \n",
       "25%               4.550000     96.000000  \n",
       "50%               4.760000    149.000000  \n",
       "75%               4.810000    250.000000  \n",
       "max               5.000000  25000.000000  "
      ]
     },
     "execution_count": 77,
     "metadata": {},
     "output_type": "execute_result"
    }
   ],
   "source": [
    "not_superhost_df[['host_response_rate','host_acceptance_rate',\n",
    "        'host_total_listings_count','review_scores_rating',\n",
    "        'review_scores_accuracy','review_scores_cleanliness',\n",
    "       'review_scores_checkin', 'review_scores_communication',\n",
    "       'review_scores_location', 'review_scores_value','price']].describe()"
   ]
  },
  {
   "cell_type": "markdown",
   "metadata": {},
   "source": [
    "# Do we see any difference between superhosts and hosts acceptance rate at neighborhood with highest and lowest acceptance rate?"
   ]
  },
  {
   "cell_type": "code",
   "execution_count": 78,
   "metadata": {
    "scrolled": true
   },
   "outputs": [
    {
     "data": {
      "text/plain": [
       "98.2"
      ]
     },
     "execution_count": 78,
     "metadata": {},
     "output_type": "execute_result"
    }
   ],
   "source": [
    "superhost_df[superhost_df['neighbourhood_cleansed']==\"Seacliff\"][\"host_acceptance_rate\"].mean()"
   ]
  },
  {
   "cell_type": "code",
   "execution_count": 79,
   "metadata": {},
   "outputs": [
    {
     "data": {
      "text/plain": [
       "90.96521739130435"
      ]
     },
     "execution_count": 79,
     "metadata": {},
     "output_type": "execute_result"
    }
   ],
   "source": [
    "superhost_df[superhost_df['neighbourhood_cleansed']==\"Noe Valley\"][\"host_acceptance_rate\"].mean()"
   ]
  },
  {
   "cell_type": "code",
   "execution_count": 80,
   "metadata": {},
   "outputs": [
    {
     "data": {
      "text/plain": [
       "100.0"
      ]
     },
     "execution_count": 80,
     "metadata": {},
     "output_type": "execute_result"
    }
   ],
   "source": [
    "not_superhost_df[not_superhost_df['neighbourhood_cleansed']==\"Seacliff\"][\"host_acceptance_rate\"].mean()"
   ]
  },
  {
   "cell_type": "code",
   "execution_count": 81,
   "metadata": {},
   "outputs": [
    {
     "data": {
      "text/plain": [
       "81.06451612903226"
      ]
     },
     "execution_count": 81,
     "metadata": {},
     "output_type": "execute_result"
    }
   ],
   "source": [
    "not_superhost_df[not_superhost_df['neighbourhood_cleansed']==\"Noe Valley\"][\"host_acceptance_rate\"].mean()"
   ]
  },
  {
   "cell_type": "markdown",
   "metadata": {},
   "source": [
    "Finding:"
   ]
  },
  {
   "cell_type": "markdown",
   "metadata": {},
   "source": [
    "Looking at these numbers we can see hosts and super hosts have larger difference in lowest acceptance rate neighborhood.We can see that almost 91% of acceptance rate from superhosts in Seacliff compared to hosts which have acceptance rate of 81%"
   ]
  },
  {
   "cell_type": "markdown",
   "metadata": {},
   "source": [
    "# How does the price range in lowest and highest number of listings neighborhoods?"
   ]
  },
  {
   "cell_type": "code",
   "execution_count": 82,
   "metadata": {},
   "outputs": [
    {
     "data": {
      "text/plain": [
       "count      814.000000\n",
       "mean       239.728501\n",
       "std        638.478339\n",
       "min         28.000000\n",
       "25%         99.000000\n",
       "50%        149.000000\n",
       "75%        224.000000\n",
       "max      10000.000000\n",
       "Name: price, dtype: float64"
      ]
     },
     "execution_count": 82,
     "metadata": {},
     "output_type": "execute_result"
    }
   ],
   "source": [
    "listings_df[listings_df['neighbourhood_cleansed']==\"Downtown/Civic Center\"][\"price\"].describe()"
   ]
  },
  {
   "cell_type": "code",
   "execution_count": 83,
   "metadata": {},
   "outputs": [
    {
     "data": {
      "text/plain": [
       "count      3.000000\n",
       "mean     162.333333\n",
       "std       12.701706\n",
       "min      155.000000\n",
       "25%      155.000000\n",
       "50%      155.000000\n",
       "75%      166.000000\n",
       "max      177.000000\n",
       "Name: price, dtype: float64"
      ]
     },
     "execution_count": 83,
     "metadata": {},
     "output_type": "execute_result"
    }
   ],
   "source": [
    "listings_df[listings_df['neighbourhood_cleansed']==\"Golden Gate Park\"][\"price\"].describe()"
   ]
  },
  {
   "cell_type": "markdown",
   "metadata": {},
   "source": [
    "Finding:"
   ]
  },
  {
   "cell_type": "markdown",
   "metadata": {},
   "source": [
    "In Downtown Civic/Center,There were total 814 listings which had minimum price of 28 to maximum price of 10000. \n",
    "But looking at stats it seems that 75% of prices are less than 224.\n",
    "In Golden Gate Park, there are 3 listings which were from 155 to 177"
   ]
  },
  {
   "cell_type": "markdown",
   "metadata": {},
   "source": [
    "# Which neighborhood has the top positive review?"
   ]
  },
  {
   "cell_type": "code",
   "execution_count": 84,
   "metadata": {},
   "outputs": [
    {
     "data": {
      "text/plain": [
       "<matplotlib.axes._subplots.AxesSubplot at 0x2a0381e57f0>"
      ]
     },
     "execution_count": 84,
     "metadata": {},
     "output_type": "execute_result"
    },
    {
     "data": {
      "image/png": "[encoded data removed]",
      "text/plain": [
       "<Figure size 1440x720 with 1 Axes>"
      ]
     },
     "metadata": {
      "needs_background": "light"
     },
     "output_type": "display_data"
    }
   ],
   "source": [
    "review_listing_df.groupby('neighbourhood_cleansed')['comments'].count().sort_values(ascending = False).plot(kind='bar',figsize=(20,10),fontsize = 20)"
   ]
  },
  {
   "cell_type": "code",
   "execution_count": 85,
   "metadata": {},
   "outputs": [
    {
     "data": {
      "text/plain": [
       "<matplotlib.axes._subplots.AxesSubplot at 0x2a03e7e26a0>"
      ]
     },
     "execution_count": 85,
     "metadata": {},
     "output_type": "execute_result"
    },
    {
     "data": {
      "image/png": "[encoded data removed]",
      "text/plain": [
       "<Figure size 1440x720 with 1 Axes>"
      ]
     },
     "metadata": {
      "needs_background": "light"
     },
     "output_type": "display_data"
    }
   ],
   "source": [
    "review_listing_df.groupby(['sentiment'])['neighbourhood_cleansed'].count().sort_values(ascending = False).plot(kind='bar',figsize=(20,10),fontsize = 20)"
   ]
  },
  {
   "cell_type": "code",
   "execution_count": 86,
   "metadata": {},
   "outputs": [
    {
     "data": {
      "text/plain": [
       "<matplotlib.axes._subplots.AxesSubplot at 0x2a03e77f040>"
      ]
     },
     "execution_count": 86,
     "metadata": {},
     "output_type": "execute_result"
    },
    {
     "data": {
      "image/png": "[encoded data removed]",
      "text/plain": [
       "<Figure size 1440x720 with 1 Axes>"
      ]
     },
     "metadata": {
      "needs_background": "light"
     },
     "output_type": "display_data"
    }
   ],
   "source": [
    "positive_review_df.groupby(['neighbourhood_cleansed'])['sentiment_score'].mean().sort_values(ascending = False).plot(kind='bar',figsize=(20,10),fontsize = 20)"
   ]
  },
  {
   "cell_type": "markdown",
   "metadata": {},
   "source": [
    "Finding:"
   ]
  },
  {
   "cell_type": "markdown",
   "metadata": {},
   "source": [
    "From the graph we can understand that Chinatown has highest positive review"
   ]
  }
 ],
 "metadata": {
  "kernelspec": {
   "display_name": "Python 3",
   "language": "python",
   "name": "python3"
  },
  "language_info": {
   "codemirror_mode": {
    "name": "ipython",
    "version": 3
   },
   "file_extension": ".py",
   "mimetype": "text/x-python",
   "name": "python",
   "nbconvert_exporter": "python",
   "pygments_lexer": "ipython3",
   "version": "3.8.3"
  }
 },
 "nbformat": 4,
 "nbformat_minor": 4
}
